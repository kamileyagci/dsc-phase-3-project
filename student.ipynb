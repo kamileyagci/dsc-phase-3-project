{
 "cells": [
  {
   "cell_type": "markdown",
   "metadata": {},
   "source": [
    "## Final Project Submission\n",
    "\n",
    "* Student name: Kamile Yagci\n",
    "* Student pace: self paced \n",
    "* Scheduled project review date/time: \n",
    "* Instructor name: Claude Fried\n",
    "* Blog post URL: "
   ]
  },
  {
   "cell_type": "markdown",
   "metadata": {},
   "source": [
    "# SyriaTel Customer Churn Study\n",
    "\n",
    "## Overview\n",
    "In this study, I will analyze the 'SyriaTel Customer Churn' data. The SyriaTel is a telecommunication company. The purpose of the study is to predict whether a customer will (\"soon\") stop doing business with SyriaTel.\n",
    "\n",
    "\n",
    "## Business Problem\n",
    "The telecommincation company, SyriaTel, hired me to analyze the Chustomer Churn data. The company wants to understand the customer's decision to discontinue their business with SyriaTel. The results of the analysis will be used make business decisions for improving the company finances. \n",
    "\n",
    "This study will\n",
    "\n",
    "* Search for the predictable pattern for customer decision on stop or continue doing business with SyriaTel\n",
    "* Choose a model which will best identify the customers who will stop doing business with SyriaTel\n"
   ]
  },
  {
   "cell_type": "markdown",
   "metadata": {},
   "source": [
    "## Data\n",
    "\n",
    "### Load\n",
    "I use SyriaTel Customer Churn data for this study. The data file is downloaded from Kaggle. \n",
    "\n",
    "The file name is 'bigml_59c28831336c6604c800002a.csv'."
   ]
  },
  {
   "cell_type": "code",
   "execution_count": 1,
   "metadata": {},
   "outputs": [],
   "source": [
    "# Import base libraries\n",
    "import pandas as pd\n",
    "import numpy as np\n",
    "\n",
    "import matplotlib.pyplot as plt\n",
    "%matplotlib inline\n",
    "import seaborn as sns\n",
    "\n",
    "import warnings\n",
    "warnings.filterwarnings('ignore')"
   ]
  },
  {
   "cell_type": "code",
   "execution_count": 313,
   "metadata": {},
   "outputs": [
    {
     "data": {
      "text/html": [
       "<div>\n",
       "<style scoped>\n",
       "    .dataframe tbody tr th:only-of-type {\n",
       "        vertical-align: middle;\n",
       "    }\n",
       "\n",
       "    .dataframe tbody tr th {\n",
       "        vertical-align: top;\n",
       "    }\n",
       "\n",
       "    .dataframe thead th {\n",
       "        text-align: right;\n",
       "    }\n",
       "</style>\n",
       "<table border=\"1\" class=\"dataframe\">\n",
       "  <thead>\n",
       "    <tr style=\"text-align: right;\">\n",
       "      <th></th>\n",
       "      <th>state</th>\n",
       "      <th>account length</th>\n",
       "      <th>area code</th>\n",
       "      <th>phone number</th>\n",
       "      <th>international plan</th>\n",
       "      <th>voice mail plan</th>\n",
       "      <th>number vmail messages</th>\n",
       "      <th>total day minutes</th>\n",
       "      <th>total day calls</th>\n",
       "      <th>total day charge</th>\n",
       "      <th>...</th>\n",
       "      <th>total eve calls</th>\n",
       "      <th>total eve charge</th>\n",
       "      <th>total night minutes</th>\n",
       "      <th>total night calls</th>\n",
       "      <th>total night charge</th>\n",
       "      <th>total intl minutes</th>\n",
       "      <th>total intl calls</th>\n",
       "      <th>total intl charge</th>\n",
       "      <th>customer service calls</th>\n",
       "      <th>churn</th>\n",
       "    </tr>\n",
       "  </thead>\n",
       "  <tbody>\n",
       "    <tr>\n",
       "      <th>0</th>\n",
       "      <td>KS</td>\n",
       "      <td>128</td>\n",
       "      <td>415</td>\n",
       "      <td>382-4657</td>\n",
       "      <td>no</td>\n",
       "      <td>yes</td>\n",
       "      <td>25</td>\n",
       "      <td>265.1</td>\n",
       "      <td>110</td>\n",
       "      <td>45.07</td>\n",
       "      <td>...</td>\n",
       "      <td>99</td>\n",
       "      <td>16.78</td>\n",
       "      <td>244.7</td>\n",
       "      <td>91</td>\n",
       "      <td>11.01</td>\n",
       "      <td>10.0</td>\n",
       "      <td>3</td>\n",
       "      <td>2.70</td>\n",
       "      <td>1</td>\n",
       "      <td>False</td>\n",
       "    </tr>\n",
       "    <tr>\n",
       "      <th>1</th>\n",
       "      <td>OH</td>\n",
       "      <td>107</td>\n",
       "      <td>415</td>\n",
       "      <td>371-7191</td>\n",
       "      <td>no</td>\n",
       "      <td>yes</td>\n",
       "      <td>26</td>\n",
       "      <td>161.6</td>\n",
       "      <td>123</td>\n",
       "      <td>27.47</td>\n",
       "      <td>...</td>\n",
       "      <td>103</td>\n",
       "      <td>16.62</td>\n",
       "      <td>254.4</td>\n",
       "      <td>103</td>\n",
       "      <td>11.45</td>\n",
       "      <td>13.7</td>\n",
       "      <td>3</td>\n",
       "      <td>3.70</td>\n",
       "      <td>1</td>\n",
       "      <td>False</td>\n",
       "    </tr>\n",
       "    <tr>\n",
       "      <th>2</th>\n",
       "      <td>NJ</td>\n",
       "      <td>137</td>\n",
       "      <td>415</td>\n",
       "      <td>358-1921</td>\n",
       "      <td>no</td>\n",
       "      <td>no</td>\n",
       "      <td>0</td>\n",
       "      <td>243.4</td>\n",
       "      <td>114</td>\n",
       "      <td>41.38</td>\n",
       "      <td>...</td>\n",
       "      <td>110</td>\n",
       "      <td>10.30</td>\n",
       "      <td>162.6</td>\n",
       "      <td>104</td>\n",
       "      <td>7.32</td>\n",
       "      <td>12.2</td>\n",
       "      <td>5</td>\n",
       "      <td>3.29</td>\n",
       "      <td>0</td>\n",
       "      <td>False</td>\n",
       "    </tr>\n",
       "    <tr>\n",
       "      <th>3</th>\n",
       "      <td>OH</td>\n",
       "      <td>84</td>\n",
       "      <td>408</td>\n",
       "      <td>375-9999</td>\n",
       "      <td>yes</td>\n",
       "      <td>no</td>\n",
       "      <td>0</td>\n",
       "      <td>299.4</td>\n",
       "      <td>71</td>\n",
       "      <td>50.90</td>\n",
       "      <td>...</td>\n",
       "      <td>88</td>\n",
       "      <td>5.26</td>\n",
       "      <td>196.9</td>\n",
       "      <td>89</td>\n",
       "      <td>8.86</td>\n",
       "      <td>6.6</td>\n",
       "      <td>7</td>\n",
       "      <td>1.78</td>\n",
       "      <td>2</td>\n",
       "      <td>False</td>\n",
       "    </tr>\n",
       "    <tr>\n",
       "      <th>4</th>\n",
       "      <td>OK</td>\n",
       "      <td>75</td>\n",
       "      <td>415</td>\n",
       "      <td>330-6626</td>\n",
       "      <td>yes</td>\n",
       "      <td>no</td>\n",
       "      <td>0</td>\n",
       "      <td>166.7</td>\n",
       "      <td>113</td>\n",
       "      <td>28.34</td>\n",
       "      <td>...</td>\n",
       "      <td>122</td>\n",
       "      <td>12.61</td>\n",
       "      <td>186.9</td>\n",
       "      <td>121</td>\n",
       "      <td>8.41</td>\n",
       "      <td>10.1</td>\n",
       "      <td>3</td>\n",
       "      <td>2.73</td>\n",
       "      <td>3</td>\n",
       "      <td>False</td>\n",
       "    </tr>\n",
       "  </tbody>\n",
       "</table>\n",
       "<p>5 rows × 21 columns</p>\n",
       "</div>"
      ],
      "text/plain": [
       "  state  account length  area code phone number international plan  \\\n",
       "0    KS             128        415     382-4657                 no   \n",
       "1    OH             107        415     371-7191                 no   \n",
       "2    NJ             137        415     358-1921                 no   \n",
       "3    OH              84        408     375-9999                yes   \n",
       "4    OK              75        415     330-6626                yes   \n",
       "\n",
       "  voice mail plan  number vmail messages  total day minutes  total day calls  \\\n",
       "0             yes                     25              265.1              110   \n",
       "1             yes                     26              161.6              123   \n",
       "2              no                      0              243.4              114   \n",
       "3              no                      0              299.4               71   \n",
       "4              no                      0              166.7              113   \n",
       "\n",
       "   total day charge  ...  total eve calls  total eve charge  \\\n",
       "0             45.07  ...               99             16.78   \n",
       "1             27.47  ...              103             16.62   \n",
       "2             41.38  ...              110             10.30   \n",
       "3             50.90  ...               88              5.26   \n",
       "4             28.34  ...              122             12.61   \n",
       "\n",
       "   total night minutes  total night calls  total night charge  \\\n",
       "0                244.7                 91               11.01   \n",
       "1                254.4                103               11.45   \n",
       "2                162.6                104                7.32   \n",
       "3                196.9                 89                8.86   \n",
       "4                186.9                121                8.41   \n",
       "\n",
       "   total intl minutes  total intl calls  total intl charge  \\\n",
       "0                10.0                 3               2.70   \n",
       "1                13.7                 3               3.70   \n",
       "2                12.2                 5               3.29   \n",
       "3                 6.6                 7               1.78   \n",
       "4                10.1                 3               2.73   \n",
       "\n",
       "   customer service calls  churn  \n",
       "0                       1  False  \n",
       "1                       1  False  \n",
       "2                       0  False  \n",
       "3                       2  False  \n",
       "4                       3  False  \n",
       "\n",
       "[5 rows x 21 columns]"
      ]
     },
     "execution_count": 313,
     "metadata": {},
     "output_type": "execute_result"
    }
   ],
   "source": [
    "# Import data\n",
    "df = pd.read_csv('bigml_59c28831336c6604c800002a.csv')\n",
    "df.head()"
   ]
  },
  {
   "cell_type": "markdown",
   "metadata": {},
   "source": [
    "### Scrub / Explore\n",
    "\n",
    "I will first look at the data closely."
   ]
  },
  {
   "cell_type": "code",
   "execution_count": 314,
   "metadata": {},
   "outputs": [
    {
     "name": "stdout",
     "output_type": "stream",
     "text": [
      "<class 'pandas.core.frame.DataFrame'>\n",
      "RangeIndex: 3333 entries, 0 to 3332\n",
      "Data columns (total 21 columns):\n",
      " #   Column                  Non-Null Count  Dtype  \n",
      "---  ------                  --------------  -----  \n",
      " 0   state                   3333 non-null   object \n",
      " 1   account length          3333 non-null   int64  \n",
      " 2   area code               3333 non-null   int64  \n",
      " 3   phone number            3333 non-null   object \n",
      " 4   international plan      3333 non-null   object \n",
      " 5   voice mail plan         3333 non-null   object \n",
      " 6   number vmail messages   3333 non-null   int64  \n",
      " 7   total day minutes       3333 non-null   float64\n",
      " 8   total day calls         3333 non-null   int64  \n",
      " 9   total day charge        3333 non-null   float64\n",
      " 10  total eve minutes       3333 non-null   float64\n",
      " 11  total eve calls         3333 non-null   int64  \n",
      " 12  total eve charge        3333 non-null   float64\n",
      " 13  total night minutes     3333 non-null   float64\n",
      " 14  total night calls       3333 non-null   int64  \n",
      " 15  total night charge      3333 non-null   float64\n",
      " 16  total intl minutes      3333 non-null   float64\n",
      " 17  total intl calls        3333 non-null   int64  \n",
      " 18  total intl charge       3333 non-null   float64\n",
      " 19  customer service calls  3333 non-null   int64  \n",
      " 20  churn                   3333 non-null   bool   \n",
      "dtypes: bool(1), float64(8), int64(8), object(4)\n",
      "memory usage: 524.2+ KB\n"
     ]
    }
   ],
   "source": [
    "df.info()"
   ]
  },
  {
   "cell_type": "code",
   "execution_count": 315,
   "metadata": {},
   "outputs": [
    {
     "data": {
      "text/plain": [
       "state                     0\n",
       "account length            0\n",
       "area code                 0\n",
       "phone number              0\n",
       "international plan        0\n",
       "voice mail plan           0\n",
       "number vmail messages     0\n",
       "total day minutes         0\n",
       "total day calls           0\n",
       "total day charge          0\n",
       "total eve minutes         0\n",
       "total eve calls           0\n",
       "total eve charge          0\n",
       "total night minutes       0\n",
       "total night calls         0\n",
       "total night charge        0\n",
       "total intl minutes        0\n",
       "total intl calls          0\n",
       "total intl charge         0\n",
       "customer service calls    0\n",
       "churn                     0\n",
       "dtype: int64"
      ]
     },
     "execution_count": 315,
     "metadata": {},
     "output_type": "execute_result"
    }
   ],
   "source": [
    "df.isna().sum()"
   ]
  },
  {
   "cell_type": "markdown",
   "metadata": {},
   "source": [
    "I will remove the column 'phone number' from dataset. Most digits in the phone number is random, and it will not have much use in modeling. This variable will also be a problem in dummy variable creation, because all values will be unique."
   ]
  },
  {
   "cell_type": "code",
   "execution_count": 316,
   "metadata": {},
   "outputs": [],
   "source": [
    "df = df.drop('phone number', axis=1)"
   ]
  },
  {
   "cell_type": "markdown",
   "metadata": {},
   "source": [
    "I will convert 'international plan', 'voice mail plan', and 'churn' variables to binary. "
   ]
  },
  {
   "cell_type": "code",
   "execution_count": 317,
   "metadata": {},
   "outputs": [
    {
     "data": {
      "text/html": [
       "<div>\n",
       "<style scoped>\n",
       "    .dataframe tbody tr th:only-of-type {\n",
       "        vertical-align: middle;\n",
       "    }\n",
       "\n",
       "    .dataframe tbody tr th {\n",
       "        vertical-align: top;\n",
       "    }\n",
       "\n",
       "    .dataframe thead th {\n",
       "        text-align: right;\n",
       "    }\n",
       "</style>\n",
       "<table border=\"1\" class=\"dataframe\">\n",
       "  <thead>\n",
       "    <tr style=\"text-align: right;\">\n",
       "      <th></th>\n",
       "      <th>state</th>\n",
       "      <th>account length</th>\n",
       "      <th>area code</th>\n",
       "      <th>international plan</th>\n",
       "      <th>voice mail plan</th>\n",
       "      <th>number vmail messages</th>\n",
       "      <th>total day minutes</th>\n",
       "      <th>total day calls</th>\n",
       "      <th>total day charge</th>\n",
       "      <th>total eve minutes</th>\n",
       "      <th>total eve calls</th>\n",
       "      <th>total eve charge</th>\n",
       "      <th>total night minutes</th>\n",
       "      <th>total night calls</th>\n",
       "      <th>total night charge</th>\n",
       "      <th>total intl minutes</th>\n",
       "      <th>total intl calls</th>\n",
       "      <th>total intl charge</th>\n",
       "      <th>customer service calls</th>\n",
       "      <th>churn</th>\n",
       "    </tr>\n",
       "  </thead>\n",
       "  <tbody>\n",
       "    <tr>\n",
       "      <th>0</th>\n",
       "      <td>KS</td>\n",
       "      <td>128</td>\n",
       "      <td>415</td>\n",
       "      <td>0</td>\n",
       "      <td>1</td>\n",
       "      <td>25</td>\n",
       "      <td>265.1</td>\n",
       "      <td>110</td>\n",
       "      <td>45.07</td>\n",
       "      <td>197.4</td>\n",
       "      <td>99</td>\n",
       "      <td>16.78</td>\n",
       "      <td>244.7</td>\n",
       "      <td>91</td>\n",
       "      <td>11.01</td>\n",
       "      <td>10.0</td>\n",
       "      <td>3</td>\n",
       "      <td>2.70</td>\n",
       "      <td>1</td>\n",
       "      <td>0</td>\n",
       "    </tr>\n",
       "    <tr>\n",
       "      <th>1</th>\n",
       "      <td>OH</td>\n",
       "      <td>107</td>\n",
       "      <td>415</td>\n",
       "      <td>0</td>\n",
       "      <td>1</td>\n",
       "      <td>26</td>\n",
       "      <td>161.6</td>\n",
       "      <td>123</td>\n",
       "      <td>27.47</td>\n",
       "      <td>195.5</td>\n",
       "      <td>103</td>\n",
       "      <td>16.62</td>\n",
       "      <td>254.4</td>\n",
       "      <td>103</td>\n",
       "      <td>11.45</td>\n",
       "      <td>13.7</td>\n",
       "      <td>3</td>\n",
       "      <td>3.70</td>\n",
       "      <td>1</td>\n",
       "      <td>0</td>\n",
       "    </tr>\n",
       "    <tr>\n",
       "      <th>2</th>\n",
       "      <td>NJ</td>\n",
       "      <td>137</td>\n",
       "      <td>415</td>\n",
       "      <td>0</td>\n",
       "      <td>0</td>\n",
       "      <td>0</td>\n",
       "      <td>243.4</td>\n",
       "      <td>114</td>\n",
       "      <td>41.38</td>\n",
       "      <td>121.2</td>\n",
       "      <td>110</td>\n",
       "      <td>10.30</td>\n",
       "      <td>162.6</td>\n",
       "      <td>104</td>\n",
       "      <td>7.32</td>\n",
       "      <td>12.2</td>\n",
       "      <td>5</td>\n",
       "      <td>3.29</td>\n",
       "      <td>0</td>\n",
       "      <td>0</td>\n",
       "    </tr>\n",
       "    <tr>\n",
       "      <th>3</th>\n",
       "      <td>OH</td>\n",
       "      <td>84</td>\n",
       "      <td>408</td>\n",
       "      <td>1</td>\n",
       "      <td>0</td>\n",
       "      <td>0</td>\n",
       "      <td>299.4</td>\n",
       "      <td>71</td>\n",
       "      <td>50.90</td>\n",
       "      <td>61.9</td>\n",
       "      <td>88</td>\n",
       "      <td>5.26</td>\n",
       "      <td>196.9</td>\n",
       "      <td>89</td>\n",
       "      <td>8.86</td>\n",
       "      <td>6.6</td>\n",
       "      <td>7</td>\n",
       "      <td>1.78</td>\n",
       "      <td>2</td>\n",
       "      <td>0</td>\n",
       "    </tr>\n",
       "    <tr>\n",
       "      <th>4</th>\n",
       "      <td>OK</td>\n",
       "      <td>75</td>\n",
       "      <td>415</td>\n",
       "      <td>1</td>\n",
       "      <td>0</td>\n",
       "      <td>0</td>\n",
       "      <td>166.7</td>\n",
       "      <td>113</td>\n",
       "      <td>28.34</td>\n",
       "      <td>148.3</td>\n",
       "      <td>122</td>\n",
       "      <td>12.61</td>\n",
       "      <td>186.9</td>\n",
       "      <td>121</td>\n",
       "      <td>8.41</td>\n",
       "      <td>10.1</td>\n",
       "      <td>3</td>\n",
       "      <td>2.73</td>\n",
       "      <td>3</td>\n",
       "      <td>0</td>\n",
       "    </tr>\n",
       "  </tbody>\n",
       "</table>\n",
       "</div>"
      ],
      "text/plain": [
       "  state  account length  area code  international plan  voice mail plan  \\\n",
       "0    KS             128        415                   0                1   \n",
       "1    OH             107        415                   0                1   \n",
       "2    NJ             137        415                   0                0   \n",
       "3    OH              84        408                   1                0   \n",
       "4    OK              75        415                   1                0   \n",
       "\n",
       "   number vmail messages  total day minutes  total day calls  \\\n",
       "0                     25              265.1              110   \n",
       "1                     26              161.6              123   \n",
       "2                      0              243.4              114   \n",
       "3                      0              299.4               71   \n",
       "4                      0              166.7              113   \n",
       "\n",
       "   total day charge  total eve minutes  total eve calls  total eve charge  \\\n",
       "0             45.07              197.4               99             16.78   \n",
       "1             27.47              195.5              103             16.62   \n",
       "2             41.38              121.2              110             10.30   \n",
       "3             50.90               61.9               88              5.26   \n",
       "4             28.34              148.3              122             12.61   \n",
       "\n",
       "   total night minutes  total night calls  total night charge  \\\n",
       "0                244.7                 91               11.01   \n",
       "1                254.4                103               11.45   \n",
       "2                162.6                104                7.32   \n",
       "3                196.9                 89                8.86   \n",
       "4                186.9                121                8.41   \n",
       "\n",
       "   total intl minutes  total intl calls  total intl charge  \\\n",
       "0                10.0                 3               2.70   \n",
       "1                13.7                 3               3.70   \n",
       "2                12.2                 5               3.29   \n",
       "3                 6.6                 7               1.78   \n",
       "4                10.1                 3               2.73   \n",
       "\n",
       "   customer service calls  churn  \n",
       "0                       1      0  \n",
       "1                       1      0  \n",
       "2                       0      0  \n",
       "3                       2      0  \n",
       "4                       3      0  "
      ]
     },
     "execution_count": 317,
     "metadata": {},
     "output_type": "execute_result"
    }
   ],
   "source": [
    "# Convert to binary\n",
    "df['international plan'] = df['international plan'].map({'yes':1 ,'no':0})\n",
    "df['voice mail plan'] = df['voice mail plan'].map({'yes':1 ,'no':0})\n",
    "df['churn'] = df['churn'].map({True:1 ,False:0})\n",
    "df.head()"
   ]
  },
  {
   "cell_type": "code",
   "execution_count": 318,
   "metadata": {},
   "outputs": [
    {
     "name": "stdout",
     "output_type": "stream",
     "text": [
      "<class 'pandas.core.frame.DataFrame'>\n",
      "RangeIndex: 3333 entries, 0 to 3332\n",
      "Data columns (total 20 columns):\n",
      " #   Column                  Non-Null Count  Dtype  \n",
      "---  ------                  --------------  -----  \n",
      " 0   state                   3333 non-null   object \n",
      " 1   account length          3333 non-null   int64  \n",
      " 2   area code               3333 non-null   int64  \n",
      " 3   international plan      3333 non-null   int64  \n",
      " 4   voice mail plan         3333 non-null   int64  \n",
      " 5   number vmail messages   3333 non-null   int64  \n",
      " 6   total day minutes       3333 non-null   float64\n",
      " 7   total day calls         3333 non-null   int64  \n",
      " 8   total day charge        3333 non-null   float64\n",
      " 9   total eve minutes       3333 non-null   float64\n",
      " 10  total eve calls         3333 non-null   int64  \n",
      " 11  total eve charge        3333 non-null   float64\n",
      " 12  total night minutes     3333 non-null   float64\n",
      " 13  total night calls       3333 non-null   int64  \n",
      " 14  total night charge      3333 non-null   float64\n",
      " 15  total intl minutes      3333 non-null   float64\n",
      " 16  total intl calls        3333 non-null   int64  \n",
      " 17  total intl charge       3333 non-null   float64\n",
      " 18  customer service calls  3333 non-null   int64  \n",
      " 19  churn                   3333 non-null   int64  \n",
      "dtypes: float64(8), int64(11), object(1)\n",
      "memory usage: 520.9+ KB\n"
     ]
    }
   ],
   "source": [
    "df.info()"
   ]
  },
  {
   "cell_type": "markdown",
   "metadata": {},
   "source": [
    "Let's see distributions for all varaiables."
   ]
  },
  {
   "cell_type": "code",
   "execution_count": 320,
   "metadata": {},
   "outputs": [
    {
     "data": {
      "image/png": "[encoded data removed]",
      "text/plain": [
       "<Figure size 1440x1440 with 20 Axes>"
      ]
     },
     "metadata": {
      "needs_background": "light"
     },
     "output_type": "display_data"
    }
   ],
   "source": [
    "df.hist(figsize=(20,20), bins='auto')\n",
    "plt.savefig('images/histograms_All.png')"
   ]
  },
  {
   "cell_type": "code",
   "execution_count": 330,
   "metadata": {},
   "outputs": [
    {
     "data": {
      "image/png": "[encoded data removed]",
      "text/plain": [
       "<Figure size 1440x288 with 1 Axes>"
      ]
     },
     "metadata": {
      "needs_background": "light"
     },
     "output_type": "display_data"
    }
   ],
   "source": [
    "df['state'].hist(figsize=(20,4), bins='auto')\n",
    "plt.savefig('images/histogram_state.png')"
   ]
  },
  {
   "cell_type": "markdown",
   "metadata": {},
   "source": [
    "Now, the binary variables have type int64. I will change the dtype to object for these variables, to make them available for dummy variable creation.\n",
    "\n",
    "The variable 'area code' is also dtype int64, however it is a categorical variable. I will also change it to object."
   ]
  },
  {
   "cell_type": "code",
   "execution_count": 321,
   "metadata": {},
   "outputs": [],
   "source": [
    "df = df.astype({'international plan': 'object'})\n",
    "df = df.astype({'voice mail plan': 'object'})\n",
    "df = df.astype({'area code': 'object'})"
   ]
  },
  {
   "cell_type": "code",
   "execution_count": 322,
   "metadata": {},
   "outputs": [
    {
     "name": "stdout",
     "output_type": "stream",
     "text": [
      "<class 'pandas.core.frame.DataFrame'>\n",
      "RangeIndex: 3333 entries, 0 to 3332\n",
      "Data columns (total 20 columns):\n",
      " #   Column                  Non-Null Count  Dtype  \n",
      "---  ------                  --------------  -----  \n",
      " 0   state                   3333 non-null   object \n",
      " 1   account length          3333 non-null   int64  \n",
      " 2   area code               3333 non-null   object \n",
      " 3   international plan      3333 non-null   object \n",
      " 4   voice mail plan         3333 non-null   object \n",
      " 5   number vmail messages   3333 non-null   int64  \n",
      " 6   total day minutes       3333 non-null   float64\n",
      " 7   total day calls         3333 non-null   int64  \n",
      " 8   total day charge        3333 non-null   float64\n",
      " 9   total eve minutes       3333 non-null   float64\n",
      " 10  total eve calls         3333 non-null   int64  \n",
      " 11  total eve charge        3333 non-null   float64\n",
      " 12  total night minutes     3333 non-null   float64\n",
      " 13  total night calls       3333 non-null   int64  \n",
      " 14  total night charge      3333 non-null   float64\n",
      " 15  total intl minutes      3333 non-null   float64\n",
      " 16  total intl calls        3333 non-null   int64  \n",
      " 17  total intl charge       3333 non-null   float64\n",
      " 18  customer service calls  3333 non-null   int64  \n",
      " 19  churn                   3333 non-null   int64  \n",
      "dtypes: float64(8), int64(8), object(4)\n",
      "memory usage: 520.9+ KB\n"
     ]
    }
   ],
   "source": [
    "df.info()"
   ]
  },
  {
   "cell_type": "code",
   "execution_count": 323,
   "metadata": {
    "scrolled": true
   },
   "outputs": [
    {
     "data": {
      "text/html": [
       "<div>\n",
       "<style scoped>\n",
       "    .dataframe tbody tr th:only-of-type {\n",
       "        vertical-align: middle;\n",
       "    }\n",
       "\n",
       "    .dataframe tbody tr th {\n",
       "        vertical-align: top;\n",
       "    }\n",
       "\n",
       "    .dataframe thead th {\n",
       "        text-align: right;\n",
       "    }\n",
       "</style>\n",
       "<table border=\"1\" class=\"dataframe\">\n",
       "  <thead>\n",
       "    <tr style=\"text-align: right;\">\n",
       "      <th></th>\n",
       "      <th>account length</th>\n",
       "      <th>number vmail messages</th>\n",
       "      <th>total day minutes</th>\n",
       "      <th>total day calls</th>\n",
       "      <th>total day charge</th>\n",
       "      <th>total eve minutes</th>\n",
       "      <th>total eve calls</th>\n",
       "      <th>total eve charge</th>\n",
       "      <th>total night minutes</th>\n",
       "      <th>total night calls</th>\n",
       "      <th>total night charge</th>\n",
       "      <th>total intl minutes</th>\n",
       "      <th>total intl calls</th>\n",
       "      <th>total intl charge</th>\n",
       "      <th>customer service calls</th>\n",
       "      <th>churn</th>\n",
       "    </tr>\n",
       "  </thead>\n",
       "  <tbody>\n",
       "    <tr>\n",
       "      <th>count</th>\n",
       "      <td>3333.000000</td>\n",
       "      <td>3333.000000</td>\n",
       "      <td>3333.000000</td>\n",
       "      <td>3333.000000</td>\n",
       "      <td>3333.000000</td>\n",
       "      <td>3333.000000</td>\n",
       "      <td>3333.000000</td>\n",
       "      <td>3333.000000</td>\n",
       "      <td>3333.000000</td>\n",
       "      <td>3333.000000</td>\n",
       "      <td>3333.000000</td>\n",
       "      <td>3333.000000</td>\n",
       "      <td>3333.000000</td>\n",
       "      <td>3333.000000</td>\n",
       "      <td>3333.000000</td>\n",
       "      <td>3333.000000</td>\n",
       "    </tr>\n",
       "    <tr>\n",
       "      <th>mean</th>\n",
       "      <td>101.064806</td>\n",
       "      <td>8.099010</td>\n",
       "      <td>179.775098</td>\n",
       "      <td>100.435644</td>\n",
       "      <td>30.562307</td>\n",
       "      <td>200.980348</td>\n",
       "      <td>100.114311</td>\n",
       "      <td>17.083540</td>\n",
       "      <td>200.872037</td>\n",
       "      <td>100.107711</td>\n",
       "      <td>9.039325</td>\n",
       "      <td>10.237294</td>\n",
       "      <td>4.479448</td>\n",
       "      <td>2.764581</td>\n",
       "      <td>1.562856</td>\n",
       "      <td>0.144914</td>\n",
       "    </tr>\n",
       "    <tr>\n",
       "      <th>std</th>\n",
       "      <td>39.822106</td>\n",
       "      <td>13.688365</td>\n",
       "      <td>54.467389</td>\n",
       "      <td>20.069084</td>\n",
       "      <td>9.259435</td>\n",
       "      <td>50.713844</td>\n",
       "      <td>19.922625</td>\n",
       "      <td>4.310668</td>\n",
       "      <td>50.573847</td>\n",
       "      <td>19.568609</td>\n",
       "      <td>2.275873</td>\n",
       "      <td>2.791840</td>\n",
       "      <td>2.461214</td>\n",
       "      <td>0.753773</td>\n",
       "      <td>1.315491</td>\n",
       "      <td>0.352067</td>\n",
       "    </tr>\n",
       "    <tr>\n",
       "      <th>min</th>\n",
       "      <td>1.000000</td>\n",
       "      <td>0.000000</td>\n",
       "      <td>0.000000</td>\n",
       "      <td>0.000000</td>\n",
       "      <td>0.000000</td>\n",
       "      <td>0.000000</td>\n",
       "      <td>0.000000</td>\n",
       "      <td>0.000000</td>\n",
       "      <td>23.200000</td>\n",
       "      <td>33.000000</td>\n",
       "      <td>1.040000</td>\n",
       "      <td>0.000000</td>\n",
       "      <td>0.000000</td>\n",
       "      <td>0.000000</td>\n",
       "      <td>0.000000</td>\n",
       "      <td>0.000000</td>\n",
       "    </tr>\n",
       "    <tr>\n",
       "      <th>25%</th>\n",
       "      <td>74.000000</td>\n",
       "      <td>0.000000</td>\n",
       "      <td>143.700000</td>\n",
       "      <td>87.000000</td>\n",
       "      <td>24.430000</td>\n",
       "      <td>166.600000</td>\n",
       "      <td>87.000000</td>\n",
       "      <td>14.160000</td>\n",
       "      <td>167.000000</td>\n",
       "      <td>87.000000</td>\n",
       "      <td>7.520000</td>\n",
       "      <td>8.500000</td>\n",
       "      <td>3.000000</td>\n",
       "      <td>2.300000</td>\n",
       "      <td>1.000000</td>\n",
       "      <td>0.000000</td>\n",
       "    </tr>\n",
       "    <tr>\n",
       "      <th>50%</th>\n",
       "      <td>101.000000</td>\n",
       "      <td>0.000000</td>\n",
       "      <td>179.400000</td>\n",
       "      <td>101.000000</td>\n",
       "      <td>30.500000</td>\n",
       "      <td>201.400000</td>\n",
       "      <td>100.000000</td>\n",
       "      <td>17.120000</td>\n",
       "      <td>201.200000</td>\n",
       "      <td>100.000000</td>\n",
       "      <td>9.050000</td>\n",
       "      <td>10.300000</td>\n",
       "      <td>4.000000</td>\n",
       "      <td>2.780000</td>\n",
       "      <td>1.000000</td>\n",
       "      <td>0.000000</td>\n",
       "    </tr>\n",
       "    <tr>\n",
       "      <th>75%</th>\n",
       "      <td>127.000000</td>\n",
       "      <td>20.000000</td>\n",
       "      <td>216.400000</td>\n",
       "      <td>114.000000</td>\n",
       "      <td>36.790000</td>\n",
       "      <td>235.300000</td>\n",
       "      <td>114.000000</td>\n",
       "      <td>20.000000</td>\n",
       "      <td>235.300000</td>\n",
       "      <td>113.000000</td>\n",
       "      <td>10.590000</td>\n",
       "      <td>12.100000</td>\n",
       "      <td>6.000000</td>\n",
       "      <td>3.270000</td>\n",
       "      <td>2.000000</td>\n",
       "      <td>0.000000</td>\n",
       "    </tr>\n",
       "    <tr>\n",
       "      <th>max</th>\n",
       "      <td>243.000000</td>\n",
       "      <td>51.000000</td>\n",
       "      <td>350.800000</td>\n",
       "      <td>165.000000</td>\n",
       "      <td>59.640000</td>\n",
       "      <td>363.700000</td>\n",
       "      <td>170.000000</td>\n",
       "      <td>30.910000</td>\n",
       "      <td>395.000000</td>\n",
       "      <td>175.000000</td>\n",
       "      <td>17.770000</td>\n",
       "      <td>20.000000</td>\n",
       "      <td>20.000000</td>\n",
       "      <td>5.400000</td>\n",
       "      <td>9.000000</td>\n",
       "      <td>1.000000</td>\n",
       "    </tr>\n",
       "  </tbody>\n",
       "</table>\n",
       "</div>"
      ],
      "text/plain": [
       "       account length  number vmail messages  total day minutes  \\\n",
       "count     3333.000000            3333.000000        3333.000000   \n",
       "mean       101.064806               8.099010         179.775098   \n",
       "std         39.822106              13.688365          54.467389   \n",
       "min          1.000000               0.000000           0.000000   \n",
       "25%         74.000000               0.000000         143.700000   \n",
       "50%        101.000000               0.000000         179.400000   \n",
       "75%        127.000000              20.000000         216.400000   \n",
       "max        243.000000              51.000000         350.800000   \n",
       "\n",
       "       total day calls  total day charge  total eve minutes  total eve calls  \\\n",
       "count      3333.000000       3333.000000        3333.000000      3333.000000   \n",
       "mean        100.435644         30.562307         200.980348       100.114311   \n",
       "std          20.069084          9.259435          50.713844        19.922625   \n",
       "min           0.000000          0.000000           0.000000         0.000000   \n",
       "25%          87.000000         24.430000         166.600000        87.000000   \n",
       "50%         101.000000         30.500000         201.400000       100.000000   \n",
       "75%         114.000000         36.790000         235.300000       114.000000   \n",
       "max         165.000000         59.640000         363.700000       170.000000   \n",
       "\n",
       "       total eve charge  total night minutes  total night calls  \\\n",
       "count       3333.000000          3333.000000        3333.000000   \n",
       "mean          17.083540           200.872037         100.107711   \n",
       "std            4.310668            50.573847          19.568609   \n",
       "min            0.000000            23.200000          33.000000   \n",
       "25%           14.160000           167.000000          87.000000   \n",
       "50%           17.120000           201.200000         100.000000   \n",
       "75%           20.000000           235.300000         113.000000   \n",
       "max           30.910000           395.000000         175.000000   \n",
       "\n",
       "       total night charge  total intl minutes  total intl calls  \\\n",
       "count         3333.000000         3333.000000       3333.000000   \n",
       "mean             9.039325           10.237294          4.479448   \n",
       "std              2.275873            2.791840          2.461214   \n",
       "min              1.040000            0.000000          0.000000   \n",
       "25%              7.520000            8.500000          3.000000   \n",
       "50%              9.050000           10.300000          4.000000   \n",
       "75%             10.590000           12.100000          6.000000   \n",
       "max             17.770000           20.000000         20.000000   \n",
       "\n",
       "       total intl charge  customer service calls        churn  \n",
       "count        3333.000000             3333.000000  3333.000000  \n",
       "mean            2.764581                1.562856     0.144914  \n",
       "std             0.753773                1.315491     0.352067  \n",
       "min             0.000000                0.000000     0.000000  \n",
       "25%             2.300000                1.000000     0.000000  \n",
       "50%             2.780000                1.000000     0.000000  \n",
       "75%             3.270000                2.000000     0.000000  \n",
       "max             5.400000                9.000000     1.000000  "
      ]
     },
     "execution_count": 323,
     "metadata": {},
     "output_type": "execute_result"
    }
   ],
   "source": [
    "df.describe()"
   ]
  },
  {
   "cell_type": "markdown",
   "metadata": {},
   "source": [
    "The traget variable for this study is 'churn'. Let's check the scatter matrixes."
   ]
  },
  {
   "cell_type": "code",
   "execution_count": 331,
   "metadata": {},
   "outputs": [
    {
     "data": {
      "image/png": "[encoded data removed]",
      "text/plain": [
       "<Figure size 1440x1800 with 20 Axes>"
      ]
     },
     "metadata": {
      "needs_background": "light"
     },
     "output_type": "display_data"
    }
   ],
   "source": [
    "fig, axes = plt.subplots(5, 4, figsize=(20, 25))\n",
    "\n",
    "for ax, col in zip(axes.flatten(), df.columns[:-1]):\n",
    "    df.plot.scatter(col, 'churn', alpha=0.1, ax=ax)\n",
    "\n",
    "plt.savefig('images/scatters_All.png')"
   ]
  },
  {
   "cell_type": "markdown",
   "metadata": {},
   "source": [
    "It is hard to recognize any patterns for 'churn' in these plots.\n",
    "\n",
    "We will now look at the models to derive patterns and predictions."
   ]
  },
  {
   "cell_type": "markdown",
   "metadata": {},
   "source": [
    "## Model\n",
    "\n",
    "### Pre-process\n",
    "In this study, we are trying to predict customer's decision on stopping the business with the company. The prediction will be True (1) or False (1). Therefore we will use binary classification model.\n",
    "\n",
    "The target variable is 'churn': activity of customers leaving the company and discarding the services offered\n",
    "\n",
    "The rest of the variables in the dataset will be predictors. I will also create dummy variables from categorical variables.\n",
    "\n",
    "Let's create the target data series (y) and predictor dataframe (X)."
   ]
  },
  {
   "cell_type": "code",
   "execution_count": 325,
   "metadata": {},
   "outputs": [
    {
     "data": {
      "text/html": [
       "<div>\n",
       "<style scoped>\n",
       "    .dataframe tbody tr th:only-of-type {\n",
       "        vertical-align: middle;\n",
       "    }\n",
       "\n",
       "    .dataframe tbody tr th {\n",
       "        vertical-align: top;\n",
       "    }\n",
       "\n",
       "    .dataframe thead th {\n",
       "        text-align: right;\n",
       "    }\n",
       "</style>\n",
       "<table border=\"1\" class=\"dataframe\">\n",
       "  <thead>\n",
       "    <tr style=\"text-align: right;\">\n",
       "      <th></th>\n",
       "      <th>account length</th>\n",
       "      <th>number vmail messages</th>\n",
       "      <th>total day minutes</th>\n",
       "      <th>total day calls</th>\n",
       "      <th>total day charge</th>\n",
       "      <th>total eve minutes</th>\n",
       "      <th>total eve calls</th>\n",
       "      <th>total eve charge</th>\n",
       "      <th>total night minutes</th>\n",
       "      <th>total night calls</th>\n",
       "      <th>...</th>\n",
       "      <th>state_WI</th>\n",
       "      <th>state_WV</th>\n",
       "      <th>state_WY</th>\n",
       "      <th>area code_408</th>\n",
       "      <th>area code_415</th>\n",
       "      <th>area code_510</th>\n",
       "      <th>international plan_0</th>\n",
       "      <th>international plan_1</th>\n",
       "      <th>voice mail plan_0</th>\n",
       "      <th>voice mail plan_1</th>\n",
       "    </tr>\n",
       "  </thead>\n",
       "  <tbody>\n",
       "    <tr>\n",
       "      <th>0</th>\n",
       "      <td>128</td>\n",
       "      <td>25</td>\n",
       "      <td>265.1</td>\n",
       "      <td>110</td>\n",
       "      <td>45.07</td>\n",
       "      <td>197.4</td>\n",
       "      <td>99</td>\n",
       "      <td>16.78</td>\n",
       "      <td>244.7</td>\n",
       "      <td>91</td>\n",
       "      <td>...</td>\n",
       "      <td>0</td>\n",
       "      <td>0</td>\n",
       "      <td>0</td>\n",
       "      <td>0</td>\n",
       "      <td>1</td>\n",
       "      <td>0</td>\n",
       "      <td>1</td>\n",
       "      <td>0</td>\n",
       "      <td>0</td>\n",
       "      <td>1</td>\n",
       "    </tr>\n",
       "    <tr>\n",
       "      <th>1</th>\n",
       "      <td>107</td>\n",
       "      <td>26</td>\n",
       "      <td>161.6</td>\n",
       "      <td>123</td>\n",
       "      <td>27.47</td>\n",
       "      <td>195.5</td>\n",
       "      <td>103</td>\n",
       "      <td>16.62</td>\n",
       "      <td>254.4</td>\n",
       "      <td>103</td>\n",
       "      <td>...</td>\n",
       "      <td>0</td>\n",
       "      <td>0</td>\n",
       "      <td>0</td>\n",
       "      <td>0</td>\n",
       "      <td>1</td>\n",
       "      <td>0</td>\n",
       "      <td>1</td>\n",
       "      <td>0</td>\n",
       "      <td>0</td>\n",
       "      <td>1</td>\n",
       "    </tr>\n",
       "    <tr>\n",
       "      <th>2</th>\n",
       "      <td>137</td>\n",
       "      <td>0</td>\n",
       "      <td>243.4</td>\n",
       "      <td>114</td>\n",
       "      <td>41.38</td>\n",
       "      <td>121.2</td>\n",
       "      <td>110</td>\n",
       "      <td>10.30</td>\n",
       "      <td>162.6</td>\n",
       "      <td>104</td>\n",
       "      <td>...</td>\n",
       "      <td>0</td>\n",
       "      <td>0</td>\n",
       "      <td>0</td>\n",
       "      <td>0</td>\n",
       "      <td>1</td>\n",
       "      <td>0</td>\n",
       "      <td>1</td>\n",
       "      <td>0</td>\n",
       "      <td>1</td>\n",
       "      <td>0</td>\n",
       "    </tr>\n",
       "    <tr>\n",
       "      <th>3</th>\n",
       "      <td>84</td>\n",
       "      <td>0</td>\n",
       "      <td>299.4</td>\n",
       "      <td>71</td>\n",
       "      <td>50.90</td>\n",
       "      <td>61.9</td>\n",
       "      <td>88</td>\n",
       "      <td>5.26</td>\n",
       "      <td>196.9</td>\n",
       "      <td>89</td>\n",
       "      <td>...</td>\n",
       "      <td>0</td>\n",
       "      <td>0</td>\n",
       "      <td>0</td>\n",
       "      <td>1</td>\n",
       "      <td>0</td>\n",
       "      <td>0</td>\n",
       "      <td>0</td>\n",
       "      <td>1</td>\n",
       "      <td>1</td>\n",
       "      <td>0</td>\n",
       "    </tr>\n",
       "    <tr>\n",
       "      <th>4</th>\n",
       "      <td>75</td>\n",
       "      <td>0</td>\n",
       "      <td>166.7</td>\n",
       "      <td>113</td>\n",
       "      <td>28.34</td>\n",
       "      <td>148.3</td>\n",
       "      <td>122</td>\n",
       "      <td>12.61</td>\n",
       "      <td>186.9</td>\n",
       "      <td>121</td>\n",
       "      <td>...</td>\n",
       "      <td>0</td>\n",
       "      <td>0</td>\n",
       "      <td>0</td>\n",
       "      <td>0</td>\n",
       "      <td>1</td>\n",
       "      <td>0</td>\n",
       "      <td>0</td>\n",
       "      <td>1</td>\n",
       "      <td>1</td>\n",
       "      <td>0</td>\n",
       "    </tr>\n",
       "  </tbody>\n",
       "</table>\n",
       "<p>5 rows × 73 columns</p>\n",
       "</div>"
      ],
      "text/plain": [
       "   account length  number vmail messages  total day minutes  total day calls  \\\n",
       "0             128                     25              265.1              110   \n",
       "1             107                     26              161.6              123   \n",
       "2             137                      0              243.4              114   \n",
       "3              84                      0              299.4               71   \n",
       "4              75                      0              166.7              113   \n",
       "\n",
       "   total day charge  total eve minutes  total eve calls  total eve charge  \\\n",
       "0             45.07              197.4               99             16.78   \n",
       "1             27.47              195.5              103             16.62   \n",
       "2             41.38              121.2              110             10.30   \n",
       "3             50.90               61.9               88              5.26   \n",
       "4             28.34              148.3              122             12.61   \n",
       "\n",
       "   total night minutes  total night calls  ...  state_WI  state_WV  state_WY  \\\n",
       "0                244.7                 91  ...         0         0         0   \n",
       "1                254.4                103  ...         0         0         0   \n",
       "2                162.6                104  ...         0         0         0   \n",
       "3                196.9                 89  ...         0         0         0   \n",
       "4                186.9                121  ...         0         0         0   \n",
       "\n",
       "   area code_408  area code_415  area code_510  international plan_0  \\\n",
       "0              0              1              0                     1   \n",
       "1              0              1              0                     1   \n",
       "2              0              1              0                     1   \n",
       "3              1              0              0                     0   \n",
       "4              0              1              0                     0   \n",
       "\n",
       "   international plan_1  voice mail plan_0  voice mail plan_1  \n",
       "0                     0                  0                  1  \n",
       "1                     0                  0                  1  \n",
       "2                     0                  1                  0  \n",
       "3                     1                  1                  0  \n",
       "4                     1                  1                  0  \n",
       "\n",
       "[5 rows x 73 columns]"
      ]
     },
     "execution_count": 325,
     "metadata": {},
     "output_type": "execute_result"
    }
   ],
   "source": [
    "# Assign target and predictor\n",
    "y = df['churn']\n",
    "X = df.drop('churn', axis=1)\n",
    "\n",
    "X = pd.get_dummies(X)\n",
    "X.head()"
   ]
  },
  {
   "cell_type": "markdown",
   "metadata": {},
   "source": [
    "Next, I will seperate the data into train and test splits. I will allocate 25% of the data for testing. I will also assign a random state for repeatability."
   ]
  },
  {
   "cell_type": "code",
   "execution_count": 326,
   "metadata": {},
   "outputs": [
    {
     "name": "stdout",
     "output_type": "stream",
     "text": [
      "X_train shape =  (2499, 73)\n",
      "y_train shape =  (2499,)\n",
      "X_test shape =  (834, 73)\n",
      "y_test shape =  (834,)\n"
     ]
    }
   ],
   "source": [
    "# Sepearate data into train and test splist\n",
    "from sklearn.model_selection import train_test_split\n",
    "\n",
    "X_train, X_test, y_train, y_test = train_test_split(X, y, random_state=42)  # Default test_size=0.25\n",
    "\n",
    "print('X_train shape = ', X_train.shape)\n",
    "print('y_train shape = ', y_train.shape)\n",
    "print('X_test shape = ', X_test.shape)\n",
    "print('y_test shape = ', y_test.shape)"
   ]
  },
  {
   "cell_type": "markdown",
   "metadata": {},
   "source": [
    "The data values have different ranges, so I need to normalize/scale each variable in train and test data (X) before modeling."
   ]
  },
  {
   "cell_type": "code",
   "execution_count": 327,
   "metadata": {},
   "outputs": [
    {
     "data": {
      "text/html": [
       "<div>\n",
       "<style scoped>\n",
       "    .dataframe tbody tr th:only-of-type {\n",
       "        vertical-align: middle;\n",
       "    }\n",
       "\n",
       "    .dataframe tbody tr th {\n",
       "        vertical-align: top;\n",
       "    }\n",
       "\n",
       "    .dataframe thead th {\n",
       "        text-align: right;\n",
       "    }\n",
       "</style>\n",
       "<table border=\"1\" class=\"dataframe\">\n",
       "  <thead>\n",
       "    <tr style=\"text-align: right;\">\n",
       "      <th></th>\n",
       "      <th>account length</th>\n",
       "      <th>number vmail messages</th>\n",
       "      <th>total day minutes</th>\n",
       "      <th>total day calls</th>\n",
       "      <th>total day charge</th>\n",
       "      <th>total eve minutes</th>\n",
       "      <th>total eve calls</th>\n",
       "      <th>total eve charge</th>\n",
       "      <th>total night minutes</th>\n",
       "      <th>total night calls</th>\n",
       "      <th>...</th>\n",
       "      <th>state_WI</th>\n",
       "      <th>state_WV</th>\n",
       "      <th>state_WY</th>\n",
       "      <th>area code_408</th>\n",
       "      <th>area code_415</th>\n",
       "      <th>area code_510</th>\n",
       "      <th>international plan_0</th>\n",
       "      <th>international plan_1</th>\n",
       "      <th>voice mail plan_0</th>\n",
       "      <th>voice mail plan_1</th>\n",
       "    </tr>\n",
       "  </thead>\n",
       "  <tbody>\n",
       "    <tr>\n",
       "      <th>0</th>\n",
       "      <td>-1.404508</td>\n",
       "      <td>-0.584700</td>\n",
       "      <td>-1.883677</td>\n",
       "      <td>1.330852</td>\n",
       "      <td>-1.884170</td>\n",
       "      <td>1.037727</td>\n",
       "      <td>0.401340</td>\n",
       "      <td>1.037905</td>\n",
       "      <td>1.069609</td>\n",
       "      <td>0.004940</td>\n",
       "      <td>...</td>\n",
       "      <td>-0.163417</td>\n",
       "      <td>-0.175899</td>\n",
       "      <td>-0.1555</td>\n",
       "      <td>-0.585514</td>\n",
       "      <td>1.001201</td>\n",
       "      <td>-0.570111</td>\n",
       "      <td>0.327448</td>\n",
       "      <td>-0.327448</td>\n",
       "      <td>0.611418</td>\n",
       "      <td>-0.611418</td>\n",
       "    </tr>\n",
       "    <tr>\n",
       "      <th>1</th>\n",
       "      <td>0.366388</td>\n",
       "      <td>-0.584700</td>\n",
       "      <td>0.294083</td>\n",
       "      <td>0.529165</td>\n",
       "      <td>0.293703</td>\n",
       "      <td>0.516178</td>\n",
       "      <td>0.401340</td>\n",
       "      <td>0.517286</td>\n",
       "      <td>2.214376</td>\n",
       "      <td>0.670832</td>\n",
       "      <td>...</td>\n",
       "      <td>-0.163417</td>\n",
       "      <td>-0.175899</td>\n",
       "      <td>-0.1555</td>\n",
       "      <td>-0.585514</td>\n",
       "      <td>1.001201</td>\n",
       "      <td>-0.570111</td>\n",
       "      <td>0.327448</td>\n",
       "      <td>-0.327448</td>\n",
       "      <td>0.611418</td>\n",
       "      <td>-0.611418</td>\n",
       "    </tr>\n",
       "    <tr>\n",
       "      <th>2</th>\n",
       "      <td>0.518179</td>\n",
       "      <td>1.685101</td>\n",
       "      <td>1.056392</td>\n",
       "      <td>-1.875896</td>\n",
       "      <td>1.056666</td>\n",
       "      <td>0.093407</td>\n",
       "      <td>0.849774</td>\n",
       "      <td>0.094283</td>\n",
       "      <td>-0.077125</td>\n",
       "      <td>-0.763398</td>\n",
       "      <td>...</td>\n",
       "      <td>-0.163417</td>\n",
       "      <td>-0.175899</td>\n",
       "      <td>-0.1555</td>\n",
       "      <td>1.707902</td>\n",
       "      <td>-0.998800</td>\n",
       "      <td>-0.570111</td>\n",
       "      <td>0.327448</td>\n",
       "      <td>-0.327448</td>\n",
       "      <td>-1.635543</td>\n",
       "      <td>1.635543</td>\n",
       "    </tr>\n",
       "    <tr>\n",
       "      <th>3</th>\n",
       "      <td>2.010792</td>\n",
       "      <td>-0.584700</td>\n",
       "      <td>-0.679156</td>\n",
       "      <td>1.681590</td>\n",
       "      <td>-0.679320</td>\n",
       "      <td>-0.402459</td>\n",
       "      <td>0.650470</td>\n",
       "      <td>-0.403094</td>\n",
       "      <td>-0.322994</td>\n",
       "      <td>-0.660953</td>\n",
       "      <td>...</td>\n",
       "      <td>-0.163417</td>\n",
       "      <td>-0.175899</td>\n",
       "      <td>-0.1555</td>\n",
       "      <td>-0.585514</td>\n",
       "      <td>1.001201</td>\n",
       "      <td>-0.570111</td>\n",
       "      <td>0.327448</td>\n",
       "      <td>-0.327448</td>\n",
       "      <td>0.611418</td>\n",
       "      <td>-0.611418</td>\n",
       "    </tr>\n",
       "    <tr>\n",
       "      <th>4</th>\n",
       "      <td>0.290493</td>\n",
       "      <td>-0.584700</td>\n",
       "      <td>0.484660</td>\n",
       "      <td>1.080325</td>\n",
       "      <td>0.484172</td>\n",
       "      <td>-0.718549</td>\n",
       "      <td>-0.296224</td>\n",
       "      <td>-0.719184</td>\n",
       "      <td>-1.186487</td>\n",
       "      <td>0.056162</td>\n",
       "      <td>...</td>\n",
       "      <td>-0.163417</td>\n",
       "      <td>-0.175899</td>\n",
       "      <td>-0.1555</td>\n",
       "      <td>-0.585514</td>\n",
       "      <td>-0.998800</td>\n",
       "      <td>1.754044</td>\n",
       "      <td>0.327448</td>\n",
       "      <td>-0.327448</td>\n",
       "      <td>0.611418</td>\n",
       "      <td>-0.611418</td>\n",
       "    </tr>\n",
       "  </tbody>\n",
       "</table>\n",
       "<p>5 rows × 73 columns</p>\n",
       "</div>"
      ],
      "text/plain": [
       "   account length  number vmail messages  total day minutes  total day calls  \\\n",
       "0       -1.404508              -0.584700          -1.883677         1.330852   \n",
       "1        0.366388              -0.584700           0.294083         0.529165   \n",
       "2        0.518179               1.685101           1.056392        -1.875896   \n",
       "3        2.010792              -0.584700          -0.679156         1.681590   \n",
       "4        0.290493              -0.584700           0.484660         1.080325   \n",
       "\n",
       "   total day charge  total eve minutes  total eve calls  total eve charge  \\\n",
       "0         -1.884170           1.037727         0.401340          1.037905   \n",
       "1          0.293703           0.516178         0.401340          0.517286   \n",
       "2          1.056666           0.093407         0.849774          0.094283   \n",
       "3         -0.679320          -0.402459         0.650470         -0.403094   \n",
       "4          0.484172          -0.718549        -0.296224         -0.719184   \n",
       "\n",
       "   total night minutes  total night calls  ...  state_WI  state_WV  state_WY  \\\n",
       "0             1.069609           0.004940  ... -0.163417 -0.175899   -0.1555   \n",
       "1             2.214376           0.670832  ... -0.163417 -0.175899   -0.1555   \n",
       "2            -0.077125          -0.763398  ... -0.163417 -0.175899   -0.1555   \n",
       "3            -0.322994          -0.660953  ... -0.163417 -0.175899   -0.1555   \n",
       "4            -1.186487           0.056162  ... -0.163417 -0.175899   -0.1555   \n",
       "\n",
       "   area code_408  area code_415  area code_510  international plan_0  \\\n",
       "0      -0.585514       1.001201      -0.570111              0.327448   \n",
       "1      -0.585514       1.001201      -0.570111              0.327448   \n",
       "2       1.707902      -0.998800      -0.570111              0.327448   \n",
       "3      -0.585514       1.001201      -0.570111              0.327448   \n",
       "4      -0.585514      -0.998800       1.754044              0.327448   \n",
       "\n",
       "   international plan_1  voice mail plan_0  voice mail plan_1  \n",
       "0             -0.327448           0.611418          -0.611418  \n",
       "1             -0.327448           0.611418          -0.611418  \n",
       "2             -0.327448          -1.635543           1.635543  \n",
       "3             -0.327448           0.611418          -0.611418  \n",
       "4             -0.327448           0.611418          -0.611418  \n",
       "\n",
       "[5 rows x 73 columns]"
      ]
     },
     "execution_count": 327,
     "metadata": {},
     "output_type": "execute_result"
    }
   ],
   "source": [
    "# Scale/Normalize the predictor variables\n",
    "from sklearn.preprocessing import StandardScaler\n",
    "\n",
    "scaler = StandardScaler()\n",
    "X_train_scaled = scaler.fit_transform(X_train)\n",
    "X_test_scaled = scaler.transform(X_test)\n",
    "\n",
    "# Convert to Dataframe\n",
    "X_train_scaled = pd.DataFrame(X_train_scaled, columns=X_train.columns)\n",
    "X_test_scaled = pd.DataFrame(X_test_scaled, columns=X_test.columns)\n",
    "X_train_scaled.head()"
   ]
  },
  {
   "cell_type": "markdown",
   "metadata": {},
   "source": [
    "### Evaluation Metrics\n",
    "\n",
    "In the next steps, I will use several classifiers to model the data. I will check their performance using the evaluation metrics:\n",
    "\n",
    "precision: \n",
    "* Number of True Positives / Number of Predicted Positives\n",
    "* How precise our predictions are?\n",
    "\n",
    "recall: \n",
    "* Nuber of True Positives / Number of Actual Total Positives\n",
    "* What percentage of the classes we're interested in were actually captured by the model?\n",
    "\n",
    "accuracy: \n",
    "* (Number of True Positives + Number of True Negatives) / (Number of Total Observations)\n",
    "* Out of all the predictions our model made, what percentage were correct?\n",
    "\n",
    "f1-score: \n",
    "* 2 * (Precision * Recall) / (Precision + Recall)\n",
    "* Harmonic Mean of Precision and Recall.\n",
    "\n",
    "*Source: Flatiron Data Science Curriculum, Evaluation Metrics*\n",
    "\n",
    "Since my business problem is focusing on identfying the customers who stop doing business, I am interested mainly on the 'recall' metrics. However, when optimizing my model, I should also pay attention to the 'precision'. I want my predictions to be true, to be precise. The recall and precision are inversely proportional. Therefore, I choose to  use the f1-score, Harmonic Mean of Precision and Recall, as the main metric for evaluating the performance of the model."
   ]
  },
  {
   "cell_type": "markdown",
   "metadata": {},
   "source": [
    "### Logistic Regression\n",
    "\n",
    "I start with Logistic Regression. I instantiate the model with default parameters and fit on training data. Then I will check the evaluation metrics both for training and testing data."
   ]
  },
  {
   "cell_type": "code",
   "execution_count": 156,
   "metadata": {},
   "outputs": [
    {
     "data": {
      "text/plain": [
       "LogisticRegression(random_state=42)"
      ]
     },
     "execution_count": 156,
     "metadata": {},
     "output_type": "execute_result"
    }
   ],
   "source": [
    "# Import, Instantiate a LogisticRegression and fit\n",
    "from sklearn.linear_model import LogisticRegression\n",
    "\n",
    "logreg = LogisticRegression(random_state=42)\n",
    "logreg.fit(X_train_scaled, y_train)\n",
    "\n",
    "# Predict\n",
    "#y_train_pred = logreg.predict(X_train_scaled)\n",
    "#y_test_pred = logreg.predict(X_test_scaled)"
   ]
  },
  {
   "cell_type": "code",
   "execution_count": 164,
   "metadata": {},
   "outputs": [
    {
     "name": "stdout",
     "output_type": "stream",
     "text": [
      "Training Data:\n",
      "               precision    recall  f1-score   support\n",
      "\n",
      "           0       0.89      0.97      0.93      2141\n",
      "           1       0.64      0.27      0.37       358\n",
      "\n",
      "    accuracy                           0.87      2499\n",
      "   macro avg       0.76      0.62      0.65      2499\n",
      "weighted avg       0.85      0.87      0.85      2499\n",
      "\n",
      "Testing Data:\n",
      "               precision    recall  f1-score   support\n",
      "\n",
      "           0       0.88      0.97      0.92       709\n",
      "           1       0.56      0.22      0.32       125\n",
      "\n",
      "    accuracy                           0.86       834\n",
      "   macro avg       0.72      0.60      0.62       834\n",
      "weighted avg       0.83      0.86      0.83       834\n",
      "\n"
     ]
    }
   ],
   "source": [
    "#Print out the evaluation metrics for training and testing data\n",
    "from sklearn.metrics import confusion_matrix, plot_confusion_matrix, classification_report\n",
    "\n",
    "print('Training Data:\\n', classification_report(y_train, logreg.predict(X_train_scaled)))\n",
    "print('Testing Data:\\n', classification_report(y_test, logreg.predict(X_test_scaled)))"
   ]
  },
  {
   "cell_type": "markdown",
   "metadata": {},
   "source": [
    "My observations from the printed results:\n",
    "\n",
    "* The metrics look similar for both training and testing data, so no overfitting or underfitting.\n",
    "* The precision - recall - f1 scores are low (for churn=1), so the model prediction performance is not good. \n",
    "* The high accuracy score is misleading. It is caused by the imbalanced dataset."
   ]
  },
  {
   "cell_type": "markdown",
   "metadata": {},
   "source": [
    "#### Resampling\n",
    "\n",
    "Class imbalance effects the performance of the classification model."
   ]
  },
  {
   "cell_type": "code",
   "execution_count": 167,
   "metadata": {},
   "outputs": [
    {
     "name": "stdout",
     "output_type": "stream",
     "text": [
      "Original whole data class distribution:\n",
      "0    2850\n",
      "1     483\n",
      "Name: churn, dtype: int64\n",
      "Original whole data class distribution, normalized:\n",
      "0    0.855086\n",
      "1    0.144914\n",
      "Name: churn, dtype: float64\n"
     ]
    }
   ],
   "source": [
    "print('Original whole data class distribution:')\n",
    "print(y.value_counts())\n",
    "print('Original whole data class distribution, normalized:')\n",
    "print(y.value_counts(normalize=True))"
   ]
  },
  {
   "cell_type": "markdown",
   "metadata": {},
   "source": [
    "According to the dataset, 85.5% of the customers do continue with SyriaTel and 14.5% of customers stop business.\n",
    "If we make a prediction that, all customers will continue, then we will have 85.5% accuracy. This explains the high accuracy score of the model, despite the other low metric values.\n",
    "\n",
    "I will use SMOTE to create a synthetic training sample to take care of imbalance."
   ]
  },
  {
   "cell_type": "code",
   "execution_count": 173,
   "metadata": {},
   "outputs": [
    {
     "name": "stdout",
     "output_type": "stream",
     "text": [
      "Original training data class distribution:\n",
      "0    2141\n",
      "1     358\n",
      "Name: churn, dtype: int64\n",
      "Synthetic training data class distribution:\n",
      "1    2141\n",
      "0    2141\n",
      "Name: churn, dtype: int64\n"
     ]
    }
   ],
   "source": [
    "# Import SMOTE, resample\n",
    "from imblearn.over_sampling import SMOTE\n",
    "\n",
    "smote = SMOTE()\n",
    "X_train_scaled_resampled, y_train_resampled = smote.fit_resample(X_train_scaled, y_train)\n",
    "\n",
    "print('Original training data class distribution:')\n",
    "print(y_train.value_counts())\n",
    "print('Synthetic training data class distribution:')\n",
    "print(y_train_resampled.value_counts())"
   ]
  },
  {
   "cell_type": "code",
   "execution_count": 186,
   "metadata": {},
   "outputs": [
    {
     "name": "stdout",
     "output_type": "stream",
     "text": [
      "Training Data:\n",
      "               precision    recall  f1-score   support\n",
      "\n",
      "           0       0.95      0.78      0.86      2141\n",
      "           1       0.36      0.75      0.49       358\n",
      "\n",
      "    accuracy                           0.78      2499\n",
      "   macro avg       0.66      0.76      0.67      2499\n",
      "weighted avg       0.86      0.78      0.80      2499\n",
      "\n",
      "Testing Data:\n",
      "               precision    recall  f1-score   support\n",
      "\n",
      "           0       0.95      0.79      0.86       709\n",
      "           1       0.39      0.78      0.52       125\n",
      "\n",
      "    accuracy                           0.79       834\n",
      "   macro avg       0.67      0.78      0.69       834\n",
      "weighted avg       0.87      0.79      0.81       834\n",
      "\n"
     ]
    }
   ],
   "source": [
    "# New model after resampling\n",
    "logreg = LogisticRegression(random_state=42)\n",
    "logreg.fit(X_train_scaled_resampled, y_train_resampled)\n",
    "\n",
    "print('Training Data:\\n', classification_report(y_train, logreg.predict(X_train_scaled)))\n",
    "print('Testing Data:\\n', classification_report(y_test, logreg.predict(X_test_scaled)))"
   ]
  },
  {
   "cell_type": "markdown",
   "metadata": {},
   "source": [
    "After resampling, the Logistic Regression Model performance is clearly improved."
   ]
  },
  {
   "cell_type": "markdown",
   "metadata": {},
   "source": [
    "#### Parameter Tuning\n",
    "\n",
    "I initially used the default paremeters for the Logistic Regression model. I will now apply parameter tuning with GridSearchCV. It will determine the best parameter combination for the given parameter grid."
   ]
  },
  {
   "cell_type": "code",
   "execution_count": 141,
   "metadata": {},
   "outputs": [
    {
     "name": "stdout",
     "output_type": "stream",
     "text": [
      "Default parameters:\n"
     ]
    },
    {
     "data": {
      "text/plain": [
       "{'C': 1.0,\n",
       " 'class_weight': None,\n",
       " 'dual': False,\n",
       " 'fit_intercept': True,\n",
       " 'intercept_scaling': 1,\n",
       " 'l1_ratio': None,\n",
       " 'max_iter': 100,\n",
       " 'multi_class': 'auto',\n",
       " 'n_jobs': None,\n",
       " 'penalty': 'l2',\n",
       " 'random_state': 42,\n",
       " 'solver': 'lbfgs',\n",
       " 'tol': 0.0001,\n",
       " 'verbose': 0,\n",
       " 'warm_start': False}"
      ]
     },
     "execution_count": 141,
     "metadata": {},
     "output_type": "execute_result"
    }
   ],
   "source": [
    "print('Default parameters:')\n",
    "logreg.get_params()"
   ]
  },
  {
   "cell_type": "code",
   "execution_count": 181,
   "metadata": {},
   "outputs": [
    {
     "name": "stdout",
     "output_type": "stream",
     "text": [
      "f1-score for test data: 0.5166240409207161\n",
      "Best Parameter Combination: {'C': 0.001, 'solver': 'liblinear'}\n"
     ]
    }
   ],
   "source": [
    "# Tuning Logistic Regression model with GridSearchCV\n",
    "from sklearn.model_selection import GridSearchCV\n",
    "\n",
    "logreg_param_grid = {\n",
    "    'solver': ['lbfgs', 'liblinear'],\n",
    "    'C': [0.001, 0.01, 0.1, 1, 10, 100, 1000, 1e5, 1e10, 1e15, 1e20],\n",
    "}\n",
    "\n",
    "logreg_gs = GridSearchCV(logreg, logreg_param_grid, cv=5, scoring='f1')\n",
    "#logreg_gs.fit(X_train_scaled, y_train)\n",
    "logreg_gs.fit(X_train_scaled_resampled, y_train_resampled)\n",
    "\n",
    "score_logreg_gs = logreg_gs.score(X_test_scaled, y_test)\n",
    "print('f1-score for test data:', score_logreg_gs)\n",
    "\n",
    "print(\"Best Parameter Combination:\", logreg_gs.best_params_)"
   ]
  },
  {
   "cell_type": "markdown",
   "metadata": {},
   "source": [
    "It looks like the parameter tuning, with the given parameter grid, didn't improve the performance much. "
   ]
  },
  {
   "cell_type": "markdown",
   "metadata": {},
   "source": [
    "### K-Nearest Neighbors"
   ]
  },
  {
   "cell_type": "code",
   "execution_count": 229,
   "metadata": {},
   "outputs": [
    {
     "name": "stdout",
     "output_type": "stream",
     "text": [
      "Training Data:\n",
      "               precision    recall  f1-score   support\n",
      "\n",
      "           0       1.00      0.82      0.90      2141\n",
      "           1       0.47      0.99      0.64       358\n",
      "\n",
      "    accuracy                           0.84      2499\n",
      "   macro avg       0.74      0.90      0.77      2499\n",
      "weighted avg       0.92      0.84      0.86      2499\n",
      "\n",
      "Testing Data:\n",
      "               precision    recall  f1-score   support\n",
      "\n",
      "           0       0.92      0.73      0.81       709\n",
      "           1       0.29      0.62      0.39       125\n",
      "\n",
      "    accuracy                           0.71       834\n",
      "   macro avg       0.60      0.67      0.60       834\n",
      "weighted avg       0.82      0.71      0.75       834\n",
      "\n"
     ]
    }
   ],
   "source": [
    "# Import, Instantiate, fit KNeighborsClassifier, \n",
    "from sklearn.neighbors import KNeighborsClassifier\n",
    "\n",
    "knn = KNeighborsClassifier()\n",
    "#knn.fit(X_train_scaled, y_train) # #f1 = 0.15 on test data\n",
    "knn.fit(X_train_scaled_resampled, y_train_resampled) #Resampled data with SMOTE f1 = 0.39 in test data\n",
    "\n",
    "print('Training Data:\\n', classification_report(y_train, knn.predict(X_train_scaled)))\n",
    "print('Testing Data:\\n', classification_report(y_test, knn.predict(X_test_scaled)))"
   ]
  },
  {
   "cell_type": "markdown",
   "metadata": {},
   "source": [
    "Observations:\n",
    "\n",
    "* The performance in training data is better than test data. This is a sign of overfitting.\n",
    "* The fitting on resampled training data has a better performance. The f1-score for test data increased from 0.15 to 0.39. (The results for resampled data is not shown here, but tested)."
   ]
  },
  {
   "cell_type": "markdown",
   "metadata": {},
   "source": [
    "#### Parameter Tuning"
   ]
  },
  {
   "cell_type": "code",
   "execution_count": 22,
   "metadata": {},
   "outputs": [
    {
     "name": "stdout",
     "output_type": "stream",
     "text": [
      "Default parameters:\n"
     ]
    },
    {
     "data": {
      "text/plain": [
       "{'algorithm': 'auto',\n",
       " 'leaf_size': 30,\n",
       " 'metric': 'minkowski',\n",
       " 'metric_params': None,\n",
       " 'n_jobs': None,\n",
       " 'n_neighbors': 5,\n",
       " 'p': 2,\n",
       " 'weights': 'uniform'}"
      ]
     },
     "execution_count": 22,
     "metadata": {},
     "output_type": "execute_result"
    }
   ],
   "source": [
    "print('Default parameters:')\n",
    "knn.get_params()"
   ]
  },
  {
   "cell_type": "code",
   "execution_count": 218,
   "metadata": {},
   "outputs": [
    {
     "name": "stdout",
     "output_type": "stream",
     "text": [
      "f1-score for test data: 0.27751196172248804\n",
      "Best Parameter Combination: {'n_neighbors': 1, 'p': 4}\n"
     ]
    }
   ],
   "source": [
    "# Tuning KNN model with GridSearchCV\n",
    "\n",
    "knn_param_grid = {\n",
    "    'n_neighbors': [1, 2, 3, 4, 5, 6, 7, 8, 9, 10, 15],\n",
    "    'p': [1, 2, 3, 4]\n",
    "}\n",
    "\n",
    "knn_gs = GridSearchCV(knn, knn_param_grid, cv=5, scoring='f1')\n",
    "knn_gs.fit(X_train_scaled, y_train) \n",
    "#knn_gs.fit(X_train_scaled_resampled, y_train_resampled) #Lower performance, f1=0.247\n",
    "\n",
    "score_knn_gs = knn_gs.score(X_test_scaled, y_test)\n",
    "print('f1-score for test data:', score_knn_gs)\n",
    "\n",
    "print(\"Best Parameter Combination:\", knn_gs.best_params_)"
   ]
  },
  {
   "cell_type": "markdown",
   "metadata": {},
   "source": [
    "Parameter tuning, with the given parameter ranges, didn't improve the KNN model performance.\n",
    "\n",
    "Why the f1-score decreased after the tuning?"
   ]
  },
  {
   "cell_type": "markdown",
   "metadata": {},
   "source": [
    "### Decision Tress\n",
    "I will firstly use DecisionTreeClassifier with default parameters, then apply GridSearchCV to find the optimum parameteres."
   ]
  },
  {
   "cell_type": "code",
   "execution_count": 214,
   "metadata": {},
   "outputs": [
    {
     "name": "stdout",
     "output_type": "stream",
     "text": [
      "Training Data:\n",
      "               precision    recall  f1-score   support\n",
      "\n",
      "           0       1.00      1.00      1.00      2141\n",
      "           1       1.00      1.00      1.00       358\n",
      "\n",
      "    accuracy                           1.00      2499\n",
      "   macro avg       1.00      1.00      1.00      2499\n",
      "weighted avg       1.00      1.00      1.00      2499\n",
      "\n",
      "Testing Data:\n",
      "               precision    recall  f1-score   support\n",
      "\n",
      "           0       0.96      0.96      0.96       709\n",
      "           1       0.75      0.75      0.75       125\n",
      "\n",
      "    accuracy                           0.93       834\n",
      "   macro avg       0.85      0.85      0.85       834\n",
      "weighted avg       0.93      0.93      0.93       834\n",
      "\n"
     ]
    }
   ],
   "source": [
    "# Import, Instantiate, fit DecisionTreeClassifier, \n",
    "from sklearn.tree import DecisionTreeClassifier\n",
    "\n",
    "dt = DecisionTreeClassifier(random_state=42)\n",
    "dt.fit(X_train_scaled, y_train)\n",
    "#dt.fit(X_train_scaled_resampled, y_train_resampled)\n",
    "\n",
    "print('Training Data:\\n', classification_report(y_train, dt.predict(X_train_scaled)))\n",
    "print('Testing Data:\\n', classification_report(y_test, dt.predict(X_test_scaled)))"
   ]
  },
  {
   "cell_type": "markdown",
   "metadata": {},
   "source": [
    "The KNN model accuracy is better than the random guessing.\n",
    "\n",
    "#### Parameter Tuning"
   ]
  },
  {
   "cell_type": "code",
   "execution_count": 25,
   "metadata": {},
   "outputs": [
    {
     "name": "stdout",
     "output_type": "stream",
     "text": [
      "Default parameters:\n"
     ]
    },
    {
     "data": {
      "text/plain": [
       "{'ccp_alpha': 0.0,\n",
       " 'class_weight': None,\n",
       " 'criterion': 'gini',\n",
       " 'max_depth': None,\n",
       " 'max_features': None,\n",
       " 'max_leaf_nodes': None,\n",
       " 'min_impurity_decrease': 0.0,\n",
       " 'min_samples_leaf': 1,\n",
       " 'min_samples_split': 2,\n",
       " 'min_weight_fraction_leaf': 0.0,\n",
       " 'random_state': 42,\n",
       " 'splitter': 'best'}"
      ]
     },
     "execution_count": 25,
     "metadata": {},
     "output_type": "execute_result"
    }
   ],
   "source": [
    "print('Default parameters:')\n",
    "dt.get_params()"
   ]
  },
  {
   "cell_type": "code",
   "execution_count": 217,
   "metadata": {},
   "outputs": [
    {
     "name": "stdout",
     "output_type": "stream",
     "text": [
      "f1-score for test data: 0.8088888888888889\n",
      "Best Parameter Combination: {'criterion': 'gini', 'max_depth': 6, 'min_samples_split': 6}\n"
     ]
    }
   ],
   "source": [
    "# Tuning Decision Trees model with GridSearchCV\n",
    "\n",
    "dt_param_grid = {\n",
    "    'criterion': ['gini', 'entropy'],\n",
    "    'max_depth': [None, 2, 4, 6, 8, 10],\n",
    "    'min_samples_split': [2, 3, 4, 5, 6],\n",
    "    #'min_samples_leaf': [1, 2, 3, 4, 5, 6]\n",
    "}\n",
    "\n",
    "dt_gs = GridSearchCV(dt, dt_param_grid, cv=5, scoring='f1')\n",
    "dt_gs.fit(X_train_scaled, y_train)\n",
    "#dt_gs.fit(X_train_scaled_resampled, y_train_resampled)\n",
    "\n",
    "score_dt_gs = dt_gs.score(X_test_scaled, y_test)\n",
    "print('f1-score for test data:', score_dt_gs)\n",
    "\n",
    "print(\"Best Parameter Combination:\", dt_gs.best_params_)"
   ]
  },
  {
   "cell_type": "markdown",
   "metadata": {},
   "source": [
    "The parameter tuning significantly improved the Decision Trees performance."
   ]
  },
  {
   "cell_type": "markdown",
   "metadata": {},
   "source": [
    "### Random Forests\n",
    "Let's try an ensemble method Random Forests, which uses DecisionTreeClassifier."
   ]
  },
  {
   "cell_type": "code",
   "execution_count": 224,
   "metadata": {},
   "outputs": [
    {
     "name": "stdout",
     "output_type": "stream",
     "text": [
      "Training Data:\n",
      "               precision    recall  f1-score   support\n",
      "\n",
      "           0       1.00      1.00      1.00      2141\n",
      "           1       1.00      1.00      1.00       358\n",
      "\n",
      "    accuracy                           1.00      2499\n",
      "   macro avg       1.00      1.00      1.00      2499\n",
      "weighted avg       1.00      1.00      1.00      2499\n",
      "\n",
      "Testing Data:\n",
      "               precision    recall  f1-score   support\n",
      "\n",
      "           0       0.94      1.00      0.97       709\n",
      "           1       0.98      0.63      0.77       125\n",
      "\n",
      "    accuracy                           0.94       834\n",
      "   macro avg       0.96      0.81      0.87       834\n",
      "weighted avg       0.94      0.94      0.94       834\n",
      "\n"
     ]
    }
   ],
   "source": [
    "# Import, Instantiate, fit RandomForestClassifier \n",
    "from sklearn.ensemble import RandomForestClassifier\n",
    "\n",
    "rf = RandomForestClassifier(random_state=42)\n",
    "rf.fit(X_train_scaled, y_train)\n",
    "#rf.fit(X_train_scaled_resampled, y_train_resampled) #No change in f1 score\n",
    "\n",
    "print('Training Data:\\n', classification_report(y_train, rf.predict(X_train_scaled)))\n",
    "print('Testing Data:\\n', classification_report(y_test, rf.predict(X_test_scaled)))"
   ]
  },
  {
   "cell_type": "markdown",
   "metadata": {},
   "source": [
    "#### Parameter Tuning"
   ]
  },
  {
   "cell_type": "code",
   "execution_count": 225,
   "metadata": {},
   "outputs": [
    {
     "name": "stdout",
     "output_type": "stream",
     "text": [
      "Default parameters:\n"
     ]
    },
    {
     "data": {
      "text/plain": [
       "{'bootstrap': True,\n",
       " 'ccp_alpha': 0.0,\n",
       " 'class_weight': None,\n",
       " 'criterion': 'gini',\n",
       " 'max_depth': None,\n",
       " 'max_features': 'auto',\n",
       " 'max_leaf_nodes': None,\n",
       " 'max_samples': None,\n",
       " 'min_impurity_decrease': 0.0,\n",
       " 'min_samples_leaf': 1,\n",
       " 'min_samples_split': 2,\n",
       " 'min_weight_fraction_leaf': 0.0,\n",
       " 'n_estimators': 100,\n",
       " 'n_jobs': None,\n",
       " 'oob_score': False,\n",
       " 'random_state': 42,\n",
       " 'verbose': 0,\n",
       " 'warm_start': False}"
      ]
     },
     "execution_count": 225,
     "metadata": {},
     "output_type": "execute_result"
    }
   ],
   "source": [
    "print('Default parameters:')\n",
    "rf.get_params()"
   ]
  },
  {
   "cell_type": "code",
   "execution_count": 230,
   "metadata": {},
   "outputs": [
    {
     "name": "stdout",
     "output_type": "stream",
     "text": [
      "f1-score on test data: 0.7326732673267325\n",
      "Best Parameter Combination: {'criterion': 'gini', 'max_depth': None, 'max_features': 8, 'min_samples_split': 3, 'n_estimators': 100}\n"
     ]
    }
   ],
   "source": [
    "# Tuning Random Forest model with GridSearchCV\n",
    "\n",
    "rf_param_grid = {\n",
    "    'n_estimators': [10, 30, 100],\n",
    "    'criterion': ['gini', 'entropy'],\n",
    "    'max_depth': [None, 2, 4, 6, 8, 10],\n",
    "    'min_samples_split': [2, 3, 4, 5, 6],\n",
    "    #'min_samples_leaf': [3, 6],\n",
    "    'max_features': [4, 5, 6, 7, 8]\n",
    "}\n",
    "\n",
    "rf_gs = GridSearchCV(rf, rf_param_grid, cv=5, scoring='f1')\n",
    "rf_gs.fit(X_train_scaled, y_train)\n",
    "\n",
    "score_rf_gs = rf_gs.score(X_test_scaled, y_test)\n",
    "print('f1-score on test data:', score_rf_gs)\n",
    "\n",
    "print(\"Best Parameter Combination:\", rf_gs.best_params_)"
   ]
  },
  {
   "cell_type": "markdown",
   "metadata": {},
   "source": [
    "The paremeter tuning didn't improve the performance of Random Forest model."
   ]
  },
  {
   "cell_type": "markdown",
   "metadata": {},
   "source": [
    "### XGBoost"
   ]
  },
  {
   "cell_type": "code",
   "execution_count": 234,
   "metadata": {},
   "outputs": [
    {
     "name": "stdout",
     "output_type": "stream",
     "text": [
      "Training Data:\n",
      "               precision    recall  f1-score   support\n",
      "\n",
      "           0       1.00      1.00      1.00      2141\n",
      "           1       1.00      1.00      1.00       358\n",
      "\n",
      "    accuracy                           1.00      2499\n",
      "   macro avg       1.00      1.00      1.00      2499\n",
      "weighted avg       1.00      1.00      1.00      2499\n",
      "\n",
      "Testing Data:\n",
      "               precision    recall  f1-score   support\n",
      "\n",
      "           0       0.96      0.99      0.97       709\n",
      "           1       0.94      0.74      0.83       125\n",
      "\n",
      "    accuracy                           0.95       834\n",
      "   macro avg       0.95      0.86      0.90       834\n",
      "weighted avg       0.95      0.95      0.95       834\n",
      "\n"
     ]
    }
   ],
   "source": [
    "# Import, Instantiate, fit XGBClassifier\n",
    "from xgboost import XGBClassifier\n",
    "import xgboost as xgb\n",
    "\n",
    "xgb = XGBClassifier(random_state=42, eval_metric='logloss') #'logloss' is default, but specified to stop warning\n",
    "xgb.fit(X_train_scaled, y_train)\n",
    "#xgb.fit(X_train_scaled_resampled, y_train_resampled)\n",
    "\n",
    "print('Training Data:\\n', classification_report(y_train, xgb.predict(X_train_scaled)))\n",
    "print('Testing Data:\\n', classification_report(y_test, xgb.predict(X_test_scaled)))"
   ]
  },
  {
   "cell_type": "markdown",
   "metadata": {},
   "source": [
    "#### Parameter Tuning"
   ]
  },
  {
   "cell_type": "code",
   "execution_count": 235,
   "metadata": {},
   "outputs": [
    {
     "name": "stdout",
     "output_type": "stream",
     "text": [
      "Default parameters:\n"
     ]
    },
    {
     "data": {
      "text/plain": [
       "{'objective': 'binary:logistic',\n",
       " 'use_label_encoder': True,\n",
       " 'base_score': 0.5,\n",
       " 'booster': 'gbtree',\n",
       " 'colsample_bylevel': 1,\n",
       " 'colsample_bynode': 1,\n",
       " 'colsample_bytree': 1,\n",
       " 'gamma': 0,\n",
       " 'gpu_id': -1,\n",
       " 'importance_type': 'gain',\n",
       " 'interaction_constraints': '',\n",
       " 'learning_rate': 0.300000012,\n",
       " 'max_delta_step': 0,\n",
       " 'max_depth': 6,\n",
       " 'min_child_weight': 1,\n",
       " 'missing': nan,\n",
       " 'monotone_constraints': '()',\n",
       " 'n_estimators': 100,\n",
       " 'n_jobs': 4,\n",
       " 'num_parallel_tree': 1,\n",
       " 'random_state': 42,\n",
       " 'reg_alpha': 0,\n",
       " 'reg_lambda': 1,\n",
       " 'scale_pos_weight': 1,\n",
       " 'subsample': 1,\n",
       " 'tree_method': 'exact',\n",
       " 'validate_parameters': 1,\n",
       " 'verbosity': None,\n",
       " 'eval_metric': 'logloss'}"
      ]
     },
     "execution_count": 235,
     "metadata": {},
     "output_type": "execute_result"
    }
   ],
   "source": [
    "print('Default parameters:')\n",
    "xgb.get_params()"
   ]
  },
  {
   "cell_type": "code",
   "execution_count": 236,
   "metadata": {},
   "outputs": [
    {
     "name": "stdout",
     "output_type": "stream",
     "text": [
      "f1-score on test data: 0.8288288288288288\n",
      "Best Parameter Combination: {'learning_rate': 0.1, 'max_depth': 10, 'min_child_weight': 1, 'n_estimators': 100, 'subsample': 0.7}\n"
     ]
    }
   ],
   "source": [
    "# Tuning XGBClassifier with GridSearchCV\n",
    "from sklearn.model_selection import GridSearchCV\n",
    "\n",
    "xgb_param_grid = {\n",
    "    'learning_rate': [0.1, 0.2],\n",
    "    'max_depth': [None, 2, 4, 6, 8, 10],\n",
    "    'min_child_weight': [1, 2],\n",
    "    'subsample': [0.5, 0.7],\n",
    "    'n_estimators': [30, 100],\n",
    "}\n",
    "\n",
    "xgb_gs = GridSearchCV(xgb, xgb_param_grid, cv=5, scoring='f1')\n",
    "xgb_gs.fit(X_train_scaled, y_train)\n",
    "\n",
    "score_xgb_gs = xgb_gs.score(X_test_scaled, y_test)\n",
    "print('f1-score on test data:', score_xgb_gs)\n",
    "\n",
    "print(\"Best Parameter Combination:\", xgb_gs.best_params_)"
   ]
  },
  {
   "cell_type": "markdown",
   "metadata": {},
   "source": [
    "The parameter tuning didn't effect the XGBoost performance much. "
   ]
  },
  {
   "cell_type": "markdown",
   "metadata": {},
   "source": [
    "### Compare the models"
   ]
  },
  {
   "cell_type": "markdown",
   "metadata": {},
   "source": [
    "At this section, I will compare the classification models to choose the best one to identify the customers who will study doing business with SyriaTel . \n",
    "\n",
    "I will now look evaluation metrics like precision, recall, accuracy and f1. \n",
    "\n",
    "I will also plot ROC curves and calculate AUC for each model.\n",
    "\n",
    "* ROC: Receiver Operating Characteristic curve illustrates the true positive rate against the false positive rate.\n",
    "* AUC: Area Under Curve\n",
    "\n",
    "I will use the optimal/best parameter set selected by the GridSearchCV to instantiate my models."
   ]
  },
  {
   "cell_type": "markdown",
   "metadata": {},
   "source": [
    "-----------\n",
    "**Optimum parameter sets, with f1-score used for tuning** \n",
    "\n",
    "Logictic Regression: {'C': 0.001, 'solver': 'liblinear'}  (with resampled data)\n",
    "\n",
    "KNN: Default  (with resampled data)\n",
    "\n",
    "Decision Trees: {'criterion': 'gini', 'max_depth': 6, 'min_samples_split': 6}\n",
    "\n",
    "Random Forest: {'criterion': 'gini', 'max_depth': None, 'max_features': 8, 'min_samples_split': 3, 'n_estimators': 100}\n",
    "\n",
    "XGBoost: {'learning_rate': 0.1, 'max_depth': 10, 'min_child_weight': 1, 'n_estimators': 100, 'subsample': 0.7}\n",
    "\n",
    "----------------"
   ]
  },
  {
   "cell_type": "code",
   "execution_count": 237,
   "metadata": {},
   "outputs": [],
   "source": [
    "# InInstantiate models with optimum parameters\n",
    "from sklearn.metrics import roc_auc_score, roc_curve, auc\n",
    "from sklearn.metrics import precision_score, recall_score, accuracy_score, f1_score\n",
    "\n",
    "logreg_best = LogisticRegression(C=0.001, solver='liblinear', random_state=42)  # use resampled training data\n",
    "knn_best = KNeighborsClassifier() # use resampled training data\n",
    "dt_best = DecisionTreeClassifier(criterion='gini', max_depth=6, min_samples_split=6)\n",
    "rf_best = RandomForestClassifier(criterion='gini', max_depth=None, max_features=8, min_samples_split=3, \\\n",
    "                                 n_estimators=100, random_state=42)\n",
    "xgb_best = XGBClassifier(learning_rate=0.1, max_depth=10, min_child_weight=1, n_estimators=100, \\\n",
    "                         subsample=0.7, random_state=42, eval_metric='logloss')\n",
    "\n",
    "model_list = [logreg_best, knn_best, dt_best, rf_best, xgb_best]\n",
    "model_names = ['Logistic Regression', 'K-Nearest Neighbor', 'Decision Trees', 'Random Forest', 'XGBoost']"
   ]
  },
  {
   "cell_type": "code",
   "execution_count": 238,
   "metadata": {},
   "outputs": [],
   "source": [
    "# Import scoring and ROC libraries\n",
    "from sklearn.metrics import roc_curve, auc\n",
    "from sklearn.metrics import precision_score, recall_score, accuracy_score, f1_score\n"
   ]
  },
  {
   "cell_type": "code",
   "execution_count": 245,
   "metadata": {},
   "outputs": [],
   "source": [
    "\n",
    "def model_scores(dataset_type, X_scaled, y_true):\n",
    "    \"\"\"\n",
    "    dataset_type = 'Testing' or 'Training' \n",
    "    X_scaled = X_test_scaled or X_train_scaled\n",
    "    y_true = y_train or y_test\n",
    "    \n",
    "    \"\"\"\n",
    "    colors = sns.color_palette('Set2')\n",
    "    plt.figure(figsize=(10, 8))\n",
    "\n",
    "    model_scores_list = []\n",
    "\n",
    "    for n, clf in enumerate(model_list):\n",
    "        #print(n)\n",
    "        \n",
    "        if n==0 or n==1:\n",
    "            clf.fit(X_train_scaled_resampled, y_train_resampled)\n",
    "        else:\n",
    "            clf.fit(X_train_scaled, y_train)\n",
    "    \n",
    "        y_pred = clf.predict(X_scaled)\n",
    "        \n",
    "        #y_score = clf.decision_function(X_scaled)\n",
    "        y_prob = clf.predict_proba(X_scaled) #Probability estimates for each class\n",
    "        fpr, tpr, thresholds = roc_curve(y_true, y_prob[:,1])\n",
    "        auc_score = auc(fpr, tpr)\n",
    "        plt.plot(fpr, tpr, color=colors[n], lw=2, label=f'{names[n]}, AUC={round(auc_score, 4)} ')\n",
    "        \n",
    "        fit_scores = {'model': model_names[n],\n",
    "                        'precision': precision_score(y_true, y_pred),\n",
    "                        'recall': recall_score(y_true, y_pred),\n",
    "                        'accuracy': accuracy_score(y_true, y_pred),\n",
    "                        'f1': f1_score(y_true, y_pred),\n",
    "                        'auc': auc_score\n",
    "                       }\n",
    "    \n",
    "        model_scores_list.append(fit_scores)\n",
    "    \n",
    "    plt.plot([0, 1], [0, 1], color='navy', lw=2, linestyle='--')\n",
    "    plt.xlim([0.0, 1.0])\n",
    "    plt.ylim([0.0, 1.05])\n",
    "    plt.yticks([i/20.0 for i in range(21)])\n",
    "    plt.xticks([i/20.0 for i in range(21)])\n",
    "    plt.xlabel('False Positive Rate', fontsize=14)\n",
    "    plt.ylabel('True Positive Rate', fontsize=14)\n",
    "    plt.title(f'ROC Curve for {dataset_type} Data', fontsize=14)\n",
    "    plt.legend(loc='lower right', fontsize=12)\n",
    "    #plt.show()\n",
    "    plt.savefig(f'images/ROC_Curve_{dataset_type}.png')\n",
    "        \n",
    "\n",
    "    model_scores_df = pd.DataFrame(model_scores_list)\n",
    "    model_scores_df = model_scores_df.set_index('model')\n",
    "    #print(model_scores_df)\n",
    "        \n",
    "    return model_scores_df"
   ]
  },
  {
   "cell_type": "code",
   "execution_count": 246,
   "metadata": {},
   "outputs": [
    {
     "data": {
      "text/html": [
       "<div>\n",
       "<style scoped>\n",
       "    .dataframe tbody tr th:only-of-type {\n",
       "        vertical-align: middle;\n",
       "    }\n",
       "\n",
       "    .dataframe tbody tr th {\n",
       "        vertical-align: top;\n",
       "    }\n",
       "\n",
       "    .dataframe thead th {\n",
       "        text-align: right;\n",
       "    }\n",
       "</style>\n",
       "<table border=\"1\" class=\"dataframe\">\n",
       "  <thead>\n",
       "    <tr style=\"text-align: right;\">\n",
       "      <th></th>\n",
       "      <th>precision</th>\n",
       "      <th>recall</th>\n",
       "      <th>accuracy</th>\n",
       "      <th>f1</th>\n",
       "      <th>auc</th>\n",
       "    </tr>\n",
       "    <tr>\n",
       "      <th>model</th>\n",
       "      <th></th>\n",
       "      <th></th>\n",
       "      <th></th>\n",
       "      <th></th>\n",
       "      <th></th>\n",
       "    </tr>\n",
       "  </thead>\n",
       "  <tbody>\n",
       "    <tr>\n",
       "      <th>Logistic Regression</th>\n",
       "      <td>0.330189</td>\n",
       "      <td>0.840</td>\n",
       "      <td>0.720624</td>\n",
       "      <td>0.474041</td>\n",
       "      <td>0.830511</td>\n",
       "    </tr>\n",
       "    <tr>\n",
       "      <th>K-Nearest Neighbor</th>\n",
       "      <td>0.286245</td>\n",
       "      <td>0.616</td>\n",
       "      <td>0.712230</td>\n",
       "      <td>0.390863</td>\n",
       "      <td>0.693106</td>\n",
       "    </tr>\n",
       "    <tr>\n",
       "      <th>Decision Trees</th>\n",
       "      <td>0.873786</td>\n",
       "      <td>0.720</td>\n",
       "      <td>0.942446</td>\n",
       "      <td>0.789474</td>\n",
       "      <td>0.884897</td>\n",
       "    </tr>\n",
       "    <tr>\n",
       "      <th>Random Forest</th>\n",
       "      <td>0.961039</td>\n",
       "      <td>0.592</td>\n",
       "      <td>0.935252</td>\n",
       "      <td>0.732673</td>\n",
       "      <td>0.930482</td>\n",
       "    </tr>\n",
       "    <tr>\n",
       "      <th>XGBoost</th>\n",
       "      <td>0.948454</td>\n",
       "      <td>0.736</td>\n",
       "      <td>0.954436</td>\n",
       "      <td>0.828829</td>\n",
       "      <td>0.934409</td>\n",
       "    </tr>\n",
       "  </tbody>\n",
       "</table>\n",
       "</div>"
      ],
      "text/plain": [
       "                     precision  recall  accuracy        f1       auc\n",
       "model                                                               \n",
       "Logistic Regression   0.330189   0.840  0.720624  0.474041  0.830511\n",
       "K-Nearest Neighbor    0.286245   0.616  0.712230  0.390863  0.693106\n",
       "Decision Trees        0.873786   0.720  0.942446  0.789474  0.884897\n",
       "Random Forest         0.961039   0.592  0.935252  0.732673  0.930482\n",
       "XGBoost               0.948454   0.736  0.954436  0.828829  0.934409"
      ]
     },
     "execution_count": 246,
     "metadata": {},
     "output_type": "execute_result"
    },
    {
     "data": {
      "image/png": "[encoded data removed]",
      "text/plain": [
       "<Figure size 720x576 with 1 Axes>"
      ]
     },
     "metadata": {
      "needs_background": "light"
     },
     "output_type": "display_data"
    }
   ],
   "source": [
    "model_scores('Testing', X_test_scaled, y_test)"
   ]
  },
  {
   "cell_type": "code",
   "execution_count": 247,
   "metadata": {},
   "outputs": [
    {
     "data": {
      "text/html": [
       "<div>\n",
       "<style scoped>\n",
       "    .dataframe tbody tr th:only-of-type {\n",
       "        vertical-align: middle;\n",
       "    }\n",
       "\n",
       "    .dataframe tbody tr th {\n",
       "        vertical-align: top;\n",
       "    }\n",
       "\n",
       "    .dataframe thead th {\n",
       "        text-align: right;\n",
       "    }\n",
       "</style>\n",
       "<table border=\"1\" class=\"dataframe\">\n",
       "  <thead>\n",
       "    <tr style=\"text-align: right;\">\n",
       "      <th></th>\n",
       "      <th>precision</th>\n",
       "      <th>recall</th>\n",
       "      <th>accuracy</th>\n",
       "      <th>f1</th>\n",
       "      <th>auc</th>\n",
       "    </tr>\n",
       "    <tr>\n",
       "      <th>model</th>\n",
       "      <th></th>\n",
       "      <th></th>\n",
       "      <th></th>\n",
       "      <th></th>\n",
       "      <th></th>\n",
       "    </tr>\n",
       "  </thead>\n",
       "  <tbody>\n",
       "    <tr>\n",
       "      <th>Logistic Regression</th>\n",
       "      <td>0.314378</td>\n",
       "      <td>0.818436</td>\n",
       "      <td>0.718287</td>\n",
       "      <td>0.454264</td>\n",
       "      <td>0.831022</td>\n",
       "    </tr>\n",
       "    <tr>\n",
       "      <th>K-Nearest Neighbor</th>\n",
       "      <td>0.474035</td>\n",
       "      <td>0.994413</td>\n",
       "      <td>0.841136</td>\n",
       "      <td>0.642020</td>\n",
       "      <td>0.991698</td>\n",
       "    </tr>\n",
       "    <tr>\n",
       "      <th>Decision Trees</th>\n",
       "      <td>0.971429</td>\n",
       "      <td>0.759777</td>\n",
       "      <td>0.962385</td>\n",
       "      <td>0.852665</td>\n",
       "      <td>0.928302</td>\n",
       "    </tr>\n",
       "    <tr>\n",
       "      <th>Random Forest</th>\n",
       "      <td>1.000000</td>\n",
       "      <td>0.986034</td>\n",
       "      <td>0.997999</td>\n",
       "      <td>0.992968</td>\n",
       "      <td>1.000000</td>\n",
       "    </tr>\n",
       "    <tr>\n",
       "      <th>XGBoost</th>\n",
       "      <td>1.000000</td>\n",
       "      <td>0.994413</td>\n",
       "      <td>0.999200</td>\n",
       "      <td>0.997199</td>\n",
       "      <td>1.000000</td>\n",
       "    </tr>\n",
       "  </tbody>\n",
       "</table>\n",
       "</div>"
      ],
      "text/plain": [
       "                     precision    recall  accuracy        f1       auc\n",
       "model                                                                 \n",
       "Logistic Regression   0.314378  0.818436  0.718287  0.454264  0.831022\n",
       "K-Nearest Neighbor    0.474035  0.994413  0.841136  0.642020  0.991698\n",
       "Decision Trees        0.971429  0.759777  0.962385  0.852665  0.928302\n",
       "Random Forest         1.000000  0.986034  0.997999  0.992968  1.000000\n",
       "XGBoost               1.000000  0.994413  0.999200  0.997199  1.000000"
      ]
     },
     "execution_count": 247,
     "metadata": {},
     "output_type": "execute_result"
    },
    {
     "data": {
      "image/png": "[encoded data removed]",
      "text/plain": [
       "<Figure size 720x576 with 1 Axes>"
      ]
     },
     "metadata": {
      "needs_background": "light"
     },
     "output_type": "display_data"
    }
   ],
   "source": [
    "model_scores('Training', X_train_scaled, y_train)"
   ]
  },
  {
   "cell_type": "markdown",
   "metadata": {},
   "source": [
    "## Interpret"
   ]
  },
  {
   "cell_type": "markdown",
   "metadata": {},
   "source": [
    "Let's interpret our results in the light of our business questions:\n",
    "* Search for the predictable pattern for customer decision on stop or continue doing business with SyriaTel\n",
    "* Choose a model which will best identify the customers who will stop doing business with SyriaTel\n",
    "\n",
    "All of my models showed some pattern for customer decision on stop or continue doing business. They also did predictions to identify the customers who will discontinue service (churn customers).  \n",
    "\n",
    "Which model is best on identinfying churn customers?\n",
    "\n",
    "I use the test data evaluation results to do final model comparisons.\n",
    "\n",
    "Here are my observations based on evaluation metrics and AUC:\n",
    "* Overall performance: Decision Trees, Random Forest and XGBoost are top three.\n",
    "* f1-score: Decision Trees, Random Forest and XGBoost are best\n",
    "* recall: Decision Trees and XGBoost have better scores\n",
    "* precision: Random Forest and XGBoost are best\n",
    "* accuracy: Decision Trees, Random Forest and XGBoost are top three\n",
    "* AUC: Random Forest and XGBoost have better value\n",
    "\n",
    "The results showed that XGBoost classifier has the best performance in all aspects. It also has the best recall and f1 score, which matters most for my study. \n",
    "\n",
    "I choose the XGBoost model as my final model. "
   ]
  },
  {
   "cell_type": "code",
   "execution_count": 265,
   "metadata": {},
   "outputs": [
    {
     "name": "stdout",
     "output_type": "stream",
     "text": [
      "              precision    recall  f1-score   support\n",
      "\n",
      "           0       0.96      0.99      0.97       709\n",
      "           1       0.95      0.74      0.83       125\n",
      "\n",
      "    accuracy                           0.95       834\n",
      "   macro avg       0.95      0.86      0.90       834\n",
      "weighted avg       0.95      0.95      0.95       834\n",
      "\n"
     ]
    },
    {
     "data": {
      "image/png": "[encoded data removed]",
      "text/plain": [
       "<Figure size 432x288 with 2 Axes>"
      ]
     },
     "metadata": {
      "needs_background": "light"
     },
     "output_type": "display_data"
    }
   ],
   "source": [
    "xgb_best.fit(X_train_scaled, y_train)\n",
    "\n",
    "print(classification_report(y_test, xgb_best.predict(X_test_scaled)))\n",
    "\n",
    "plot_confusion_matrix(xgb_best, X_test_scaled, y_test)\n",
    "plt.savefig('images/confusion_matrix_XGB.png')"
   ]
  },
  {
   "cell_type": "markdown",
   "metadata": {},
   "source": [
    "The summary of XGBoost Classifier Model performance:\n",
    "* It successfully indentifies the 74% of the true churn customers. (recall)\n",
    "* Among the model predicted churn customers, 95% of them are true churn customers. (precision)\n",
    "* The Harmonic Mean of Precision and Recall (f1-score) is 83%.\n",
    "\n",
    "\n",
    "The identification numbers on test data:\n",
    "* Identification numbers:\n",
    "    ** Number of true positives: 92\n",
    "    ** Number of true negatives: 704\n",
    "    ** Number of false positives: 5\n",
    "    ** Number of false negatives: 33\n",
    "* It identifies 92 out of 125 churn customers correctly.\n",
    "* 92 out of 97 predicted  churn customers are real churn."
   ]
  }
 ],
 "metadata": {
  "kernelspec": {
   "display_name": "Python 3",
   "language": "python",
   "name": "python3"
  },
  "language_info": {
   "codemirror_mode": {
    "name": "ipython",
    "version": 3
   },
   "file_extension": ".py",
   "mimetype": "text/x-python",
   "name": "python",
   "nbconvert_exporter": "python",
   "pygments_lexer": "ipython3",
   "version": "3.8.3"
  }
 },
 "nbformat": 4,
 "nbformat_minor": 4
}
